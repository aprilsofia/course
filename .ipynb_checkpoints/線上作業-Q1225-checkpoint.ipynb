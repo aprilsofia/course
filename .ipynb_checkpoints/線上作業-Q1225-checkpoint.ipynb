{
 "cells": [
  {
   "cell_type": "markdown",
   "metadata": {},
   "source": [
    "# Q1225: Digit Counting(助教指導)"
   ]
  },
  {
   "cell_type": "markdown",
   "metadata": {},
   "source": [
    "小明在寫他的數學作業，越寫越覺得無聊。於是他拿起粉筆開始從1寫到N。然後，他去算他每個阿拉伯數字（0～9）分別寫多少次。例如：N＝13, 他所寫的數字串如下：\n",
    "12345678910111213\n",
    "在這個數字串中，0出現1次，1出現6次，2出現2次，3出現2次，4到9都出現1次。 在玩了一陣子之後，小明又覺得無聊了。他想要寫一個程式來算一算每個阿拉伯數字出現幾次。\n",
    "\n",
    "任務:幫他寫這個程式"
   ]
  },
  {
   "cell_type": "code",
   "execution_count": 1,
   "metadata": {},
   "outputs": [
    {
     "name": "stdout",
     "output_type": "stream",
     "text": [
      "請輸入需要計數字串(阿拉伯數字):573829505\n"
     ]
    }
   ],
   "source": [
    "a=input (\"請輸入需要計數字串\"+\"(阿拉伯數字):\")"
   ]
  },
  {
   "cell_type": "code",
   "execution_count": 2,
   "metadata": {},
   "outputs": [
    {
     "data": {
      "text/plain": [
       "'573829505'"
      ]
     },
     "execution_count": 2,
     "metadata": {},
     "output_type": "execute_result"
    }
   ],
   "source": [
    "a"
   ]
  },
  {
   "cell_type": "code",
   "execution_count": 3,
   "metadata": {},
   "outputs": [
    {
     "data": {
      "text/plain": [
       "['5', '7', '3', '8', '2', '9', '5', '0', '5']"
      ]
     },
     "execution_count": 3,
     "metadata": {},
     "output_type": "execute_result"
    }
   ],
   "source": [
    "a2list = list(a)\n",
    "a2list"
   ]
  },
  {
   "cell_type": "code",
   "execution_count": 4,
   "metadata": {},
   "outputs": [
    {
     "name": "stdout",
     "output_type": "stream",
     "text": [
      "0 appear 1\n",
      "5 appear 3\n",
      "9 appear 1\n",
      "8 appear 1\n",
      "2 appear 1\n",
      "3 appear 1\n",
      "7 appear 1\n"
     ]
    }
   ],
   "source": [
    "for i in set(a2list):\n",
    "    print(f'{i} appear {a2list.count(i)}')"
   ]
  },
  {
   "cell_type": "markdown",
   "metadata": {},
   "source": [
    "## 同理，字串應該也可以吧!"
   ]
  },
  {
   "cell_type": "code",
   "execution_count": 6,
   "metadata": {},
   "outputs": [
    {
     "name": "stdout",
     "output_type": "stream",
     "text": [
      "來段繞口令吧!我幫你算算重複了那些字~量窗量床又量牆跳上床量窗靠往牆量床牆比張床長床又比窗長窗長不過床床又長不過牆所以牆比床比窗長\n"
     ]
    }
   ],
   "source": [
    "writer=input('來段繞口令吧!我幫你算算重複了那些字~')\n",
    "A=list(writer)"
   ]
  },
  {
   "cell_type": "code",
   "execution_count": 7,
   "metadata": {},
   "outputs": [
    {
     "name": "stdout",
     "output_type": "stream",
     "text": [
      "以 appear 1\n",
      "長 appear 5\n",
      "床 appear 8\n",
      "跳 appear 1\n",
      "靠 appear 1\n",
      "不 appear 2\n",
      "又 appear 3\n",
      "上 appear 1\n",
      "往 appear 1\n",
      "過 appear 2\n",
      "所 appear 1\n",
      "窗 appear 5\n",
      "比 appear 4\n",
      "量 appear 5\n",
      "張 appear 1\n",
      "牆 appear 5\n"
     ]
    }
   ],
   "source": [
    "for i in set(writer):\n",
    "    print(f'{i} appear {writer.count(i)}')"
   ]
  },
  {
   "cell_type": "code",
   "execution_count": 9,
   "metadata": {},
   "outputs": [
    {
     "name": "stdout",
     "output_type": "stream",
     "text": [
      "File `Q1225: Digit Counting.py` exists. Overwrite (y/[N])?  y\n",
      "The following commands were written to file `Q1225: Digit Counting.py`:\n",
      "a=input (\"請輸入需要計數字串\"+\"(阿拉伯數字):\")\n",
      "a\n",
      "a2list = list(a)\n",
      "a2list\n",
      "for i in set(a2list):\n",
      "    print(f'{i} appear {a2list.count(i)}')\n",
      "writer=input('來段繞口令吧!我幫你算算重複了那些字~')\n",
      "A=list(writer)\n",
      "writer=input('來段繞口令吧!我幫你算算重複了那些字~')\n",
      "A=list(writer)\n",
      "for i in set(writer):\n",
      "    print(f'{i} appear {writer.count(i)}')\n"
     ]
    }
   ],
   "source": [
    "%save \"Q1225: Digit Counting.py\" 1-7"
   ]
  },
  {
   "cell_type": "code",
   "execution_count": null,
   "metadata": {},
   "outputs": [],
   "source": []
  }
 ],
 "metadata": {
  "kernelspec": {
   "display_name": "Python 3",
   "language": "python",
   "name": "python3"
  },
  "language_info": {
   "codemirror_mode": {
    "name": "ipython",
    "version": 3
   },
   "file_extension": ".py",
   "mimetype": "text/x-python",
   "name": "python",
   "nbconvert_exporter": "python",
   "pygments_lexer": "ipython3",
   "version": "3.7.3"
  }
 },
 "nbformat": 4,
 "nbformat_minor": 2
}
