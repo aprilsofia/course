{
 "cells": [
  {
   "cell_type": "markdown",
   "metadata": {},
   "source": [
    "# 自行練習--新銳文青新詩創作"
   ]
  },
  {
   "cell_type": "markdown",
   "metadata": {},
   "source": [
    "### 先複習"
   ]
  },
  {
   "cell_type": "code",
   "execution_count": 1,
   "metadata": {},
   "outputs": [],
   "source": [
    "st='''\n",
    "我\n",
    "我的\n",
    "眼睛\n",
    "妳\n",
    "妳的\n",
    "心\n",
    "溫柔\n",
    "日子\n",
    "雨\n",
    "風\n",
    "天空\n",
    "雲\n",
    "等待\n",
    "哭泣\n",
    "戀愛\n",
    "相遇\n",
    "分離\n",
    "忘記\n",
    "心醉\n",
    "驀然\n",
    "吹過\n",
    "思念\n",
    "靈魂\n",
    "停止\n",
    "旅行\n",
    "火車\n",
    "狂暴\n",
    "石\n",
    "望見\n",
    "微醺\n",
    "酡紅\n",
    "掠過\n",
    "'''"
   ]
  },
  {
   "cell_type": "code",
   "execution_count": 2,
   "metadata": {},
   "outputs": [
    {
     "data": {
      "text/plain": [
       "['',\n",
       " '我',\n",
       " '我的',\n",
       " '眼睛',\n",
       " '妳',\n",
       " '妳的',\n",
       " '心',\n",
       " '溫柔',\n",
       " '日子',\n",
       " '雨',\n",
       " '風',\n",
       " '天空',\n",
       " '雲',\n",
       " '等待',\n",
       " '哭泣',\n",
       " '戀愛',\n",
       " '相遇',\n",
       " '分離',\n",
       " '忘記',\n",
       " '心醉',\n",
       " '驀然',\n",
       " '吹過',\n",
       " '思念',\n",
       " '靈魂',\n",
       " '停止',\n",
       " '旅行',\n",
       " '火車',\n",
       " '狂暴',\n",
       " '石',\n",
       " '望見',\n",
       " '微醺',\n",
       " '酡紅',\n",
       " '掠過',\n",
       " '']"
      ]
     },
     "execution_count": 2,
     "metadata": {},
     "output_type": "execute_result"
    }
   ],
   "source": [
    "words=st.split('\\n')\n",
    "words"
   ]
  },
  {
   "cell_type": "code",
   "execution_count": 3,
   "metadata": {},
   "outputs": [],
   "source": [
    "from random import randint,choices,sample"
   ]
  },
  {
   "cell_type": "code",
   "execution_count": 4,
   "metadata": {},
   "outputs": [],
   "source": [
    "def poem():\n",
    "\n",
    "    n=randint(5,10) #表示詩的行數介於5-10行之間\n",
    "\n",
    "    for i in range(n):\n",
    "        m=randint(2,5)  #表示每句的什麼長度?是字數嗎?\n",
    "        stentence=sample(words,m)\n",
    "        print(\" \".join(stentence))"
   ]
  },
  {
   "cell_type": "code",
   "execution_count": 5,
   "metadata": {},
   "outputs": [
    {
     "name": "stdout",
     "output_type": "stream",
     "text": [
      "戀愛 天空 停止 旅行\n",
      "思念 心 妳的\n",
      "等待 雨 心 狂暴\n",
      " 雲 眼睛 溫柔 旅行\n",
      "雨 驀然 停止 忘記\n",
      "石 心 相遇 天空\n",
      "掠過 火車 相遇 吹過 分離\n",
      "心 心醉 妳\n",
      "石 心醉 天空 靈魂\n",
      " 酡紅\n"
     ]
    }
   ],
   "source": [
    "poem()"
   ]
  },
  {
   "cell_type": "raw",
   "metadata": {},
   "source": [
    "## 試試看吧"
   ]
  },
  {
   "cell_type": "code",
   "execution_count": 12,
   "metadata": {},
   "outputs": [],
   "source": [
    "def poem2():\n",
    "    \n",
    "    n=randint(5,10)\n",
    "    for i in range(n):\n",
    "        m=randint(2,5)\n",
    "        stentence=sample(words,m)\n",
    "        print (' '.join(stentence)) #這是用print的狀況"
   ]
  },
  {
   "cell_type": "code",
   "execution_count": 13,
   "metadata": {},
   "outputs": [
    {
     "name": "stdout",
     "output_type": "stream",
     "text": [
      "思念 微醺 石\n",
      "哭泣 \n",
      " 驀然\n",
      "靈魂 微醺\n",
      "停止 相遇 靈魂 日子 雲\n",
      "心  思念 天空 戀愛\n",
      "相遇 戀愛 天空 驀然 妳的\n",
      "望見 戀愛 火車 微醺 心醉\n"
     ]
    }
   ],
   "source": [
    "poem2()"
   ]
  },
  {
   "cell_type": "code",
   "execution_count": 14,
   "metadata": {},
   "outputs": [],
   "source": [
    "def poem2():\n",
    "    \n",
    "    n=randint(5,10)\n",
    "    for i in range(n):\n",
    "        m=randint(2,5)\n",
    "        stentence=sample(words,m)\n",
    "        return (' '.join(stentence))  #這是用return的情形"
   ]
  },
  {
   "cell_type": "code",
   "execution_count": 15,
   "metadata": {},
   "outputs": [
    {
     "data": {
      "text/plain": [
       "'分離 狂暴 雨 心醉'"
      ]
     },
     "execution_count": 15,
     "metadata": {},
     "output_type": "execute_result"
    }
   ],
   "source": [
    "poem2()"
   ]
  },
  {
   "cell_type": "code",
   "execution_count": 8,
   "metadata": {},
   "outputs": [
    {
     "ename": "NameError",
     "evalue": "name '喜歡一個' is not defined",
     "output_type": "error",
     "traceback": [
      "\u001b[1;31m---------------------------------------------------------------------------\u001b[0m",
      "\u001b[1;31mNameError\u001b[0m                                 Traceback (most recent call last)",
      "\u001b[1;32m<ipython-input-8-92c3a7dada72>\u001b[0m in \u001b[0;36m<module>\u001b[1;34m\u001b[0m\n\u001b[1;32m----> 1\u001b[1;33m \u001b[0m喜歡一個\u001b[0m\u001b[1;33m%\u001b[0m\u001b[0ms的角落\u001b[0m\u001b[1;33m\u001b[0m\u001b[1;33m\u001b[0m\u001b[0m\n\u001b[0m\u001b[0;32m      2\u001b[0m \u001b[0m但不能喜歡太多\u001b[0m\u001b[1;33m\u001b[0m\u001b[1;33m\u001b[0m\u001b[0m\n\u001b[0;32m      3\u001b[0m \u001b[0m當雨忽然落下\u001b[0m\u001b[1;33m\u001b[0m\u001b[1;33m\u001b[0m\u001b[0m\n\u001b[0;32m      4\u001b[0m \u001b[0m我們沿著\u001b[0m\u001b[1;33m%\u001b[0m\u001b[0ms快跑\u001b[0m\u001b[1;33m\u001b[0m\u001b[1;33m\u001b[0m\u001b[0m\n\u001b[0;32m      5\u001b[0m \u001b[0mget_ipython\u001b[0m\u001b[1;33m(\u001b[0m\u001b[1;33m)\u001b[0m\u001b[1;33m.\u001b[0m\u001b[0mrun_line_magic\u001b[0m\u001b[1;33m(\u001b[0m\u001b[1;34m's讓我們相遇'\u001b[0m\u001b[1;33m,\u001b[0m \u001b[1;34m''\u001b[0m\u001b[1;33m)\u001b[0m\u001b[1;33m\u001b[0m\u001b[1;33m\u001b[0m\u001b[0m\n",
      "\u001b[1;31mNameError\u001b[0m: name '喜歡一個' is not defined"
     ]
    }
   ],
   "source": [
    "喜歡一個%s的角落\n",
    "但不能喜歡太多\n",
    "當雨忽然落下\n",
    "我們沿著%s快跑\n",
    "%s讓我們相遇\n",
    "\n",
    "他的%s\n",
    "濕潤的鼻息\n",
    "\n",
    "喜歡一個人%s的時刻\n",
    "但不能喜歡太多\n",
    "在%s或%s\n",
    "\n",
    "%s像睡眠一樣\n",
    "餵養我們\n",
    "\n",
    "以永無止盡的%s\n",
    "\n",
    "需要以%s取暖"
   ]
  },
  {
   "cell_type": "code",
   "execution_count": 1,
   "metadata": {},
   "outputs": [
    {
     "name": "stdout",
     "output_type": "stream",
     "text": [
      ">>月光\n",
      ">>海潮\n",
      ">>書頁\n"
     ]
    }
   ],
   "source": [
    "a=input('>>')\n",
    "b=input('>>')\n",
    "c=input('>>')"
   ]
  },
  {
   "cell_type": "code",
   "execution_count": 2,
   "metadata": {},
   "outputs": [
    {
     "name": "stdout",
     "output_type": "stream",
     "text": [
      "喜歡一個月光的角落,但不能喜歡海潮,書頁使我們相遇\n"
     ]
    }
   ],
   "source": [
    "print('喜歡一個{}的角落,但不能喜歡{},{}使我們相遇'.format(a,b,c))"
   ]
  },
  {
   "cell_type": "code",
   "execution_count": 6,
   "metadata": {},
   "outputs": [],
   "source": [
    "L = [a,b,c]"
   ]
  },
  {
   "cell_type": "code",
   "execution_count": 7,
   "metadata": {},
   "outputs": [
    {
     "data": {
      "text/plain": [
       "['月光', '海潮', '書頁']"
      ]
     },
     "execution_count": 7,
     "metadata": {},
     "output_type": "execute_result"
    }
   ],
   "source": [
    "L"
   ]
  },
  {
   "cell_type": "code",
   "execution_count": 8,
   "metadata": {},
   "outputs": [],
   "source": [
    "from random import choices"
   ]
  },
  {
   "cell_type": "code",
   "execution_count": 14,
   "metadata": {},
   "outputs": [],
   "source": [
    "d, e, f = choices(L, k=3)"
   ]
  },
  {
   "cell_type": "code",
   "execution_count": 15,
   "metadata": {},
   "outputs": [
    {
     "name": "stdout",
     "output_type": "stream",
     "text": [
      "喜歡一個月光的角落,但不能喜歡書頁,書頁使我們相遇\n"
     ]
    }
   ],
   "source": [
    "print('喜歡一個{}的角落,但不能喜歡{},{}使我們相遇'.format(d,e,f))"
   ]
  },
  {
   "cell_type": "code",
   "execution_count": null,
   "metadata": {},
   "outputs": [],
   "source": []
  },
  {
   "cell_type": "code",
   "execution_count": null,
   "metadata": {},
   "outputs": [],
   "source": []
  },
  {
   "cell_type": "code",
   "execution_count": 4,
   "metadata": {},
   "outputs": [
    {
     "ename": "IndexError",
     "evalue": "tuple index out of range",
     "output_type": "error",
     "traceback": [
      "\u001b[1;31m---------------------------------------------------------------------------\u001b[0m",
      "\u001b[1;31mIndexError\u001b[0m                                Traceback (most recent call last)",
      "\u001b[1;32m<ipython-input-4-dc66c7b10933>\u001b[0m in \u001b[0;36m<module>\u001b[1;34m\u001b[0m\n\u001b[1;32m----> 1\u001b[1;33m \u001b[0mprint\u001b[0m\u001b[1;33m(\u001b[0m\u001b[1;34m'喜歡一個{}的角落,但不能喜歡太{},{}使我們相遇'\u001b[0m\u001b[1;33m.\u001b[0m\u001b[0mformat\u001b[0m\u001b[1;33m(\u001b[0m\u001b[0mA\u001b[0m\u001b[1;33m)\u001b[0m\u001b[1;33m)\u001b[0m\u001b[1;33m\u001b[0m\u001b[1;33m\u001b[0m\u001b[0m\n\u001b[0m",
      "\u001b[1;31mIndexError\u001b[0m: tuple index out of range"
     ]
    }
   ],
   "source": [
    "print('喜歡一個{}的角落,但不能喜歡太{},{}使我們相遇'.format(A))"
   ]
  },
  {
   "cell_type": "code",
   "execution_count": null,
   "metadata": {},
   "outputs": [],
   "source": []
  },
  {
   "cell_type": "code",
   "execution_count": null,
   "metadata": {},
   "outputs": [],
   "source": []
  }
 ],
 "metadata": {
  "kernelspec": {
   "display_name": "Python 3",
   "language": "python",
   "name": "python3"
  },
  "language_info": {
   "codemirror_mode": {
    "name": "ipython",
    "version": 3
   },
   "file_extension": ".py",
   "mimetype": "text/x-python",
   "name": "python",
   "nbconvert_exporter": "python",
   "pygments_lexer": "ipython3",
   "version": "3.7.3"
  }
 },
 "nbformat": 4,
 "nbformat_minor": 2
}
