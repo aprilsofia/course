{
 "cells": [
  {
   "cell_type": "markdown",
   "metadata": {},
   "source": [
    "## 助教觀念題"
   ]
  },
  {
   "cell_type": "code",
   "execution_count": 2,
   "metadata": {},
   "outputs": [
    {
     "ename": "SyntaxError",
     "evalue": "invalid syntax (<ipython-input-2-f1fd9ef53760>, line 1)",
     "output_type": "error",
     "traceback": [
      "\u001b[1;36m  File \u001b[1;32m\"<ipython-input-2-f1fd9ef53760>\"\u001b[1;36m, line \u001b[1;32m1\u001b[0m\n\u001b[1;33m    int k = 4;\u001b[0m\n\u001b[1;37m        ^\u001b[0m\n\u001b[1;31mSyntaxError\u001b[0m\u001b[1;31m:\u001b[0m invalid syntax\n"
     ]
    }
   ],
   "source": [
    "int k = 4;\n",
    "int m = 1; for (int i=1; i<=5; i=i+1) {\n",
    "for (int j=1; j<=k; j=j+1) {\n",
    "printf (\" \");\n",
    "}\n",
    "for (int j=1; j<=m; j=j+1) {\n",
    " printf (\"*\");\n",
    "}\n",
    " printf (\"\\n\");\n",
    " k = k – 1;\n",
    " m = m + 1;\n",
    "}"
   ]
  },
  {
   "cell_type": "code",
   "execution_count": 13,
   "metadata": {},
   "outputs": [
    {
     "name": "stdout",
     "output_type": "stream",
     "text": [
      "----*\n",
      "---**\n",
      "--***\n",
      "-****\n",
      "*****\n"
     ]
    }
   ],
   "source": [
    "# 第一題\n",
    "k=4\n",
    "m=1\n",
    "for i in range(1,5+1): #可以直接寫6\n",
    "    \n",
    "    for j in range  (1,k+1):\n",
    "        print(\"-\", end='')  # 用'-'讓自己比較容易辨認空白狀況\n",
    "        \n",
    "    for j in range (1,m+1):\n",
    "        print(\"*\", end='')\n",
    "    print()\n",
    "    k=k-1\n",
    "    m=m+1 #改成m=m+2,就可以完成所需要的。\n",
    "    "
   ]
  },
  {
   "cell_type": "code",
   "execution_count": 16,
   "metadata": {},
   "outputs": [],
   "source": [
    "# 第二題\n",
    "def f(a=[],n=0):\n",
    "    index=0\n",
    "    for i in range(1,n):\n",
    "        if a[i]>=a[index]:\n",
    "            index=i\n",
    "    return index"
   ]
  },
  {
   "cell_type": "code",
   "execution_count": 17,
   "metadata": {},
   "outputs": [
    {
     "data": {
      "text/plain": [
       "7"
      ]
     },
     "execution_count": 17,
     "metadata": {},
     "output_type": "execute_result"
    }
   ],
   "source": [
    "L=[1,3,9,2,5,8,4,9,6,7]\n",
    "f(L,10)"
   ]
  },
  {
   "cell_type": "code",
   "execution_count": 18,
   "metadata": {},
   "outputs": [],
   "source": [
    "## 也就是在9這個數字就不會回傳。而它的位置是a[7]!"
   ]
  },
  {
   "cell_type": "code",
   "execution_count": 19,
   "metadata": {},
   "outputs": [],
   "source": [
    "# 第三題\n",
    "def f1(a=[], n=1):\n",
    "    r_value = -1\n",
    "    i = 0\n",
    "    while (i < 100):\n",
    "        \n",
    "        if (a[i] == value):\n",
    "            \n",
    "            r_value = i\n",
    "            break\n",
    "            i += 1\n",
    "                \n",
    "    return r_value"
   ]
  },
  {
   "cell_type": "code",
   "execution_count": 23,
   "metadata": {},
   "outputs": [
    {
     "data": {
      "text/plain": [
       "0"
      ]
     },
     "execution_count": 23,
     "metadata": {},
     "output_type": "execute_result"
    }
   ],
   "source": [
    "1//3"
   ]
  },
  {
   "cell_type": "code",
   "execution_count": 25,
   "metadata": {},
   "outputs": [],
   "source": [
    "def f2(a=[], value=1):\n",
    "    r_value = -1\n",
    "    low=0\n",
    "    high=99\n",
    "    mid=0\n",
    "    while (low<=high):\n",
    "        mid=(low+high)//2\n",
    "        if a[mid]==value:\n",
    "            r_value=mid\n",
    "            break\n",
    "        elif a[mid]<value:\n",
    "            low=mid+1\n",
    "        else:\n",
    "            high=mid-1\n",
    "            \n",
    "    return r_value\n"
   ]
  },
  {
   "cell_type": "code",
   "execution_count": 32,
   "metadata": {},
   "outputs": [
    {
     "data": {
      "text/plain": [
       "[1,\n",
       " 4,\n",
       " 7,\n",
       " 10,\n",
       " 13,\n",
       " 16,\n",
       " 19,\n",
       " 22,\n",
       " 25,\n",
       " 28,\n",
       " 31,\n",
       " 34,\n",
       " 37,\n",
       " 40,\n",
       " 43,\n",
       " 46,\n",
       " 49,\n",
       " 52,\n",
       " 55,\n",
       " 58,\n",
       " 61,\n",
       " 64,\n",
       " 67,\n",
       " 70,\n",
       " 73,\n",
       " 76,\n",
       " 79,\n",
       " 82,\n",
       " 85,\n",
       " 88,\n",
       " 91,\n",
       " 94,\n",
       " 97,\n",
       " 100,\n",
       " 103,\n",
       " 106,\n",
       " 109,\n",
       " 112,\n",
       " 115,\n",
       " 118,\n",
       " 121,\n",
       " 124,\n",
       " 127,\n",
       " 130,\n",
       " 133,\n",
       " 136,\n",
       " 139,\n",
       " 142,\n",
       " 145,\n",
       " 148,\n",
       " 151,\n",
       " 154,\n",
       " 157,\n",
       " 160,\n",
       " 163,\n",
       " 166,\n",
       " 169,\n",
       " 172,\n",
       " 175,\n",
       " 178,\n",
       " 181,\n",
       " 184,\n",
       " 187,\n",
       " 190,\n",
       " 193,\n",
       " 196,\n",
       " 199,\n",
       " 202,\n",
       " 205,\n",
       " 208,\n",
       " 211,\n",
       " 214,\n",
       " 217,\n",
       " 220,\n",
       " 223,\n",
       " 226,\n",
       " 229,\n",
       " 232,\n",
       " 235,\n",
       " 238,\n",
       " 241,\n",
       " 244,\n",
       " 247,\n",
       " 250,\n",
       " 253,\n",
       " 256,\n",
       " 259,\n",
       " 262,\n",
       " 265,\n",
       " 268,\n",
       " 271,\n",
       " 274,\n",
       " 277,\n",
       " 280,\n",
       " 283,\n",
       " 286,\n",
       " 289,\n",
       " 292,\n",
       " 295,\n",
       " 298]"
      ]
     },
     "execution_count": 32,
     "metadata": {},
     "output_type": "execute_result"
    }
   ],
   "source": [
    "a=list(range(1,300,3))\n",
    "a"
   ]
  },
  {
   "cell_type": "code",
   "execution_count": null,
   "metadata": {},
   "outputs": [],
   "source": [
    "L=[]\n"
   ]
  },
  {
   "cell_type": "code",
   "execution_count": 20,
   "metadata": {},
   "outputs": [],
   "source": [
    "## 第四題"
   ]
  },
  {
   "cell_type": "code",
   "execution_count": null,
   "metadata": {},
   "outputs": [],
   "source": [
    "def f()\n",
    "  for i in range\n",
    "i=1; i<=100; i=i+1) :\n",
    "b[i] = i;\n",
    "}\n",
    "a[0] = 0;\n",
    "for (i=1; i<=100; i=i+1) {\n",
    "a[i] = b[i] + a[i-1];\n",
    "}\n",
    "printf (\"%d\\n\", a[50]-a[30]);"
   ]
  },
  {
   "cell_type": "code",
   "execution_count": 33,
   "metadata": {},
   "outputs": [],
   "source": [
    "## 第七題"
   ]
  },
  {
   "cell_type": "code",
   "execution_count": 36,
   "metadata": {},
   "outputs": [],
   "source": [
    "def a(n=0,m=0):\n",
    "\n",
    "    if n<10:\n",
    "        if m<10:\n",
    "            return n+m\n",
    "        else:\n",
    "            return a(n,m-2)+m\n",
    "    else:\n",
    "        return a(n-1,m)+n"
   ]
  },
  {
   "cell_type": "code",
   "execution_count": 37,
   "metadata": {},
   "outputs": [
    {
     "data": {
      "text/plain": [
       "103"
      ]
     },
     "execution_count": 37,
     "metadata": {},
     "output_type": "execute_result"
    }
   ],
   "source": [
    "a(13,15)"
   ]
  },
  {
   "cell_type": "code",
   "execution_count": null,
   "metadata": {},
   "outputs": [],
   "source": []
  }
 ],
 "metadata": {
  "kernelspec": {
   "display_name": "Python 3",
   "language": "python",
   "name": "python3"
  },
  "language_info": {
   "codemirror_mode": {
    "name": "ipython",
    "version": 3
   },
   "file_extension": ".py",
   "mimetype": "text/x-python",
   "name": "python",
   "nbconvert_exporter": "python",
   "pygments_lexer": "ipython3",
   "version": "3.7.3"
  }
 },
 "nbformat": 4,
 "nbformat_minor": 2
}
