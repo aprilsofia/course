{
 "cells": [
  {
   "cell_type": "markdown",
   "metadata": {},
   "source": [
    "# Q1225: Digit Counting"
   ]
  },
  {
   "cell_type": "markdown",
   "metadata": {},
   "source": [
    "小明在寫他的數學作業，越寫越覺得無聊。於是他拿起粉筆開始從1寫到N。然後，他去算他每個阿拉伯數字（0～9）分別寫多少次。例如：N＝13, 他所寫的數字串如下：\n",
    "12345678910111213\n",
    "在這個數字串中，0出現1次，1出現6次，2出現2次，3出現2次，4到9都出現1次。 在玩了一陣子之後，小明又覺得無聊了。他想要寫一個程式來算一算每個阿拉伯數字出現幾次。\n",
    "\n",
    "任務:幫他寫這個程式"
   ]
  },
  {
   "cell_type": "code",
   "execution_count": null,
   "metadata": {},
   "outputs": [],
   "source": [
    "from random import rand\n",
    "import time\n",
    "import itertools"
   ]
  },
  {
   "cell_type": "code",
   "execution_count": null,
   "metadata": {},
   "outputs": [],
   "source": [
    "input()\n",
    "N=(0,9)"
   ]
  },
  {
   "cell_type": "code",
   "execution_count": null,
   "metadata": {},
   "outputs": [],
   "source": []
  }
 ],
 "metadata": {
  "kernelspec": {
   "display_name": "Python 3",
   "language": "python",
   "name": "python3"
  },
  "language_info": {
   "codemirror_mode": {
    "name": "ipython",
    "version": 3
   },
   "file_extension": ".py",
   "mimetype": "text/x-python",
   "name": "python",
   "nbconvert_exporter": "python",
   "pygments_lexer": "ipython3",
   "version": "3.7.3"
  }
 },
 "nbformat": 4,
 "nbformat_minor": 2
}
