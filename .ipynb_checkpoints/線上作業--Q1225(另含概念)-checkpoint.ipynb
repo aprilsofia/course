{
 "cells": [
  {
   "cell_type": "markdown",
   "metadata": {},
   "source": [
    "# Q1225: Digit Counting(助教指導重點)"
   ]
  },
  {
   "cell_type": "markdown",
   "metadata": {},
   "source": [
    "小明在寫他的數學作業，越寫越覺得無聊。於是他拿起粉筆開始從1寫到N。然後，他去算他每個阿拉伯數字（0～9）分別寫多少次。例如：N＝13, 他所寫的數字串如下：\n",
    "12345678910111213\n",
    "在這個數字串中，0出現1次，1出現6次，2出現2次，3出現2次，4到9都出現1次。 在玩了一陣子之後，小明又覺得無聊了。他想要寫一個程式來算一算每個阿拉伯數字出現幾次。\n",
    "\n",
    "任務:幫他寫這個程式"
   ]
  },
  {
   "cell_type": "code",
   "execution_count": 108,
   "metadata": {},
   "outputs": [],
   "source": [
    "from collections import Counter \n",
    "from collections import defaultdict\n",
    "d1 = defaultdict(int)"
   ]
  },
  {
   "cell_type": "code",
   "execution_count": 1,
   "metadata": {},
   "outputs": [
    {
     "name": "stdout",
     "output_type": "stream",
     "text": [
      "請輸入需要計數字串(阿拉伯數字):8665897990844333\n"
     ]
    }
   ],
   "source": [
    "a=input (\"請輸入需要計數字串\"+\"(阿拉伯數字):\")"
   ]
  },
  {
   "cell_type": "code",
   "execution_count": 2,
   "metadata": {},
   "outputs": [
    {
     "data": {
      "text/plain": [
       "'8665897990844333'"
      ]
     },
     "execution_count": 2,
     "metadata": {},
     "output_type": "execute_result"
    }
   ],
   "source": [
    "a"
   ]
  },
  {
   "cell_type": "code",
   "execution_count": 3,
   "metadata": {},
   "outputs": [
    {
     "data": {
      "text/plain": [
       "['8',\n",
       " '6',\n",
       " '6',\n",
       " '5',\n",
       " '8',\n",
       " '9',\n",
       " '7',\n",
       " '9',\n",
       " '9',\n",
       " '0',\n",
       " '8',\n",
       " '4',\n",
       " '4',\n",
       " '3',\n",
       " '3',\n",
       " '3']"
      ]
     },
     "execution_count": 3,
     "metadata": {},
     "output_type": "execute_result"
    }
   ],
   "source": [
    "a2list = list(a)\n",
    "a2list"
   ]
  },
  {
   "cell_type": "code",
   "execution_count": 27,
   "metadata": {},
   "outputs": [
    {
     "name": "stdout",
     "output_type": "stream",
     "text": [
      "5 has 1\n",
      "3 has 3\n",
      "4 has 2\n",
      "9 has 3\n",
      "8 has 3\n",
      "0 has 1\n",
      "6 has 2\n",
      "7 has 1\n"
     ]
    }
   ],
   "source": [
    "for i in set(a2list):\n",
    "    print(f'{i} has {a2list.count(i)}')"
   ]
  },
  {
   "cell_type": "code",
   "execution_count": 4,
   "metadata": {},
   "outputs": [
    {
     "name": "stdout",
     "output_type": "stream",
     "text": [
      "請輸入需要計數字串(阿拉伯數字):43\n",
      "請輸入需要計數字串(阿拉伯數字):65\n",
      "請輸入需要計數字串(阿拉伯數字):25\n",
      "請輸入需要計數字串(阿拉伯數字):156\n",
      "請輸入需要計數字串(阿拉伯數字):65\n",
      "請輸入需要計數字串(阿拉伯數字):8867\n",
      "請輸入需要計數字串(阿拉伯數字):56\n",
      "請輸入需要計數字串(阿拉伯數字):765\n",
      "請輸入需要計數字串(阿拉伯數字):567\n",
      "請輸入需要計數字串(阿拉伯數字):756\n"
     ]
    }
   ],
   "source": [
    "weights = []\n",
    "for i in range(10):\n",
    "    weights.append(input (\"請輸入需要計數字串\"+\"(阿拉伯數字):\"))"
   ]
  },
  {
   "cell_type": "code",
   "execution_count": 5,
   "metadata": {},
   "outputs": [
    {
     "data": {
      "text/plain": [
       "['43', '65', '25', '156', '65', '8867', '56', '765', '567', '756']"
      ]
     },
     "execution_count": 5,
     "metadata": {},
     "output_type": "execute_result"
    }
   ],
   "source": [
    "weights"
   ]
  },
  {
   "cell_type": "code",
   "execution_count": 6,
   "metadata": {},
   "outputs": [
    {
     "name": "stdout",
     "output_type": "stream",
     "text": [
      "請輸入需要計數字串(阿拉伯數字):53,43,64,12,53\n"
     ]
    }
   ],
   "source": [
    "a=input (\"請輸入需要計數字串\"+\"(阿拉伯數字):\")"
   ]
  },
  {
   "cell_type": "code",
   "execution_count": 10,
   "metadata": {},
   "outputs": [
    {
     "data": {
      "text/plain": [
       "['53', '43', '64', '12', '53']"
      ]
     },
     "execution_count": 10,
     "metadata": {},
     "output_type": "execute_result"
    }
   ],
   "source": [
    "classA_weights = a.split(',')\n",
    "classA_weights"
   ]
  },
  {
   "cell_type": "code",
   "execution_count": 24,
   "metadata": {},
   "outputs": [
    {
     "data": {
      "text/plain": [
       "2"
      ]
     },
     "execution_count": 24,
     "metadata": {},
     "output_type": "execute_result"
    }
   ],
   "source": [
    "classA_weights.count('53')"
   ]
  },
  {
   "cell_type": "code",
   "execution_count": 23,
   "metadata": {},
   "outputs": [
    {
     "data": {
      "text/plain": [
       "True"
      ]
     },
     "execution_count": 23,
     "metadata": {},
     "output_type": "execute_result"
    }
   ],
   "source": [
    "classA_weights[0] == classA_weights[4]"
   ]
  },
  {
   "cell_type": "code",
   "execution_count": 21,
   "metadata": {},
   "outputs": [
    {
     "data": {
      "text/plain": [
       "[53, 43, 64, 12, 53]"
      ]
     },
     "execution_count": 21,
     "metadata": {},
     "output_type": "execute_result"
    }
   ],
   "source": [
    "classA_weights_int = []\n",
    "for weight in classA_weights:\n",
    "    classA_weights_int.append(int(weight))\n",
    "    \n",
    "classA_weights_int"
   ]
  },
  {
   "cell_type": "code",
   "execution_count": 25,
   "metadata": {},
   "outputs": [
    {
     "data": {
      "text/plain": [
       "2"
      ]
     },
     "execution_count": 25,
     "metadata": {},
     "output_type": "execute_result"
    }
   ],
   "source": [
    "classA_weights_int.count(53)"
   ]
  },
  {
   "cell_type": "code",
   "execution_count": 22,
   "metadata": {},
   "outputs": [
    {
     "data": {
      "text/plain": [
       "225"
      ]
     },
     "execution_count": 22,
     "metadata": {},
     "output_type": "execute_result"
    }
   ],
   "source": [
    "sum(classA_weights_int)"
   ]
  },
  {
   "cell_type": "code",
   "execution_count": 18,
   "metadata": {},
   "outputs": [],
   "source": [
    "string = \"fgdhgfhsgf999gzfgdagdfgrd999gsdfgdfgfsd999gsdfgfgsdf999gsdfgsdgfdgdfgf\""
   ]
  },
  {
   "cell_type": "code",
   "execution_count": 19,
   "metadata": {},
   "outputs": [
    {
     "data": {
      "text/plain": [
       "['fgdhgfhsgf', 'gzfgdagdfgrd', 'gsdfgdfgfsd', 'gsdfgfgsdf', 'gsdfgsdgfdgdfgf']"
      ]
     },
     "execution_count": 19,
     "metadata": {},
     "output_type": "execute_result"
    }
   ],
   "source": [
    "L = string.split('999')\n",
    "L"
   ]
  },
  {
   "cell_type": "code",
   "execution_count": 20,
   "metadata": {},
   "outputs": [
    {
     "ename": "NameError",
     "evalue": "name 'split' is not defined",
     "output_type": "error",
     "traceback": [
      "\u001b[1;31m---------------------------------------------------------------------------\u001b[0m",
      "\u001b[1;31mNameError\u001b[0m                                 Traceback (most recent call last)",
      "\u001b[1;32m<ipython-input-20-10859457530c>\u001b[0m in \u001b[0;36m<module>\u001b[1;34m\u001b[0m\n\u001b[1;32m----> 1\u001b[1;33m \u001b[0msplit\u001b[0m\u001b[1;33m(\u001b[0m\u001b[1;34m','\u001b[0m\u001b[1;33m)\u001b[0m\u001b[1;33m\u001b[0m\u001b[1;33m\u001b[0m\u001b[0m\n\u001b[0m",
      "\u001b[1;31mNameError\u001b[0m: name 'split' is not defined"
     ]
    }
   ],
   "source": [
    "split(',')"
   ]
  },
  {
   "cell_type": "code",
   "execution_count": 45,
   "metadata": {},
   "outputs": [
    {
     "ename": "SyntaxError",
     "evalue": "unexpected EOF while parsing (<ipython-input-45-865c5bc19294>, line 2)",
     "output_type": "error",
     "traceback": [
      "\u001b[1;36m  File \u001b[1;32m\"<ipython-input-45-865c5bc19294>\"\u001b[1;36m, line \u001b[1;32m2\u001b[0m\n\u001b[1;33m    \u001b[0m\n\u001b[1;37m    ^\u001b[0m\n\u001b[1;31mSyntaxError\u001b[0m\u001b[1;31m:\u001b[0m unexpected EOF while parsing\n"
     ]
    }
   ],
   "source": [
    "for i in print(a):"
   ]
  },
  {
   "cell_type": "code",
   "execution_count": null,
   "metadata": {},
   "outputs": [],
   "source": []
  }
 ],
 "metadata": {
  "kernelspec": {
   "display_name": "Python 3",
   "language": "python",
   "name": "python3"
  },
  "language_info": {
   "codemirror_mode": {
    "name": "ipython",
    "version": 3
   },
   "file_extension": ".py",
   "mimetype": "text/x-python",
   "name": "python",
   "nbconvert_exporter": "python",
   "pygments_lexer": "ipython3",
   "version": "3.7.3"
  }
 },
 "nbformat": 4,
 "nbformat_minor": 2
}
