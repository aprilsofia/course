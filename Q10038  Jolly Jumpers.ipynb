{
 "cells": [
  {
   "cell_type": "markdown",
   "metadata": {},
   "source": [
    "## Q10038: Jolly Jumpers"
   ]
  },
  {
   "cell_type": "code",
   "execution_count": 1,
   "metadata": {},
   "outputs": [
    {
     "name": "stdout",
     "output_type": "stream",
     "text": [
      "123456\n"
     ]
    },
    {
     "data": {
      "text/plain": [
       "6"
      ]
     },
     "execution_count": 1,
     "metadata": {},
     "output_type": "execute_result"
    }
   ],
   "source": [
    "a=input()\n",
    "n=len(a)\n",
    "n"
   ]
  },
  {
   "cell_type": "code",
   "execution_count": 6,
   "metadata": {},
   "outputs": [
    {
     "data": {
      "text/plain": [
       "1"
      ]
     },
     "execution_count": 6,
     "metadata": {},
     "output_type": "execute_result"
    }
   ],
   "source": [
    "x=(int(a[2])-int(a[1]))\n",
    "x"
   ]
  },
  {
   "cell_type": "code",
   "execution_count": 7,
   "metadata": {},
   "outputs": [
    {
     "data": {
      "text/plain": [
       "1"
      ]
     },
     "execution_count": 7,
     "metadata": {},
     "output_type": "execute_result"
    }
   ],
   "source": [
    "x=int(int(a[2])-int(a[1]))\n",
    "x"
   ]
  },
  {
   "cell_type": "code",
   "execution_count": 8,
   "metadata": {},
   "outputs": [
    {
     "data": {
      "text/plain": [
       "False"
      ]
     },
     "execution_count": 8,
     "metadata": {},
     "output_type": "execute_result"
    }
   ],
   "source": [
    "(int(a[2])-int(a[1]))>1 and (int(a[2])-int(a[1]))<=2\n"
   ]
  },
  {
   "cell_type": "code",
   "execution_count": 20,
   "metadata": {},
   "outputs": [
    {
     "ename": "IndentationError",
     "evalue": "unexpected indent (<ipython-input-20-04203c36f1d0>, line 17)",
     "output_type": "error",
     "traceback": [
      "\u001b[1;36m  File \u001b[1;32m\"<ipython-input-20-04203c36f1d0>\"\u001b[1;36m, line \u001b[1;32m17\u001b[0m\n\u001b[1;33m    else:\u001b[0m\n\u001b[1;37m    ^\u001b[0m\n\u001b[1;31mIndentationError\u001b[0m\u001b[1;31m:\u001b[0m unexpected indent\n"
     ]
    }
   ],
   "source": [
    "a=input()\n",
    "n=len(a)\n",
    "\n",
    "c=True\n",
    "\n",
    "for i in range(0,n):\n",
    "    i<=n\n",
    "    x=(int(a[i])-int(a[i-1]))\n",
    "\n",
    "while c :\n",
    "    \n",
    "    int(x)>1\n",
    "    int(x)<=int(n-1)\n",
    "    \n",
    "print('Jolly')\n",
    "    \n",
    "    else:\n",
    "print('Not jolly')\n",
    "    \n",
    "    \n",
    "    \n",
    "        "
   ]
  },
  {
   "cell_type": "code",
   "execution_count": null,
   "metadata": {},
   "outputs": [],
   "source": [
    "a=input()\n",
    "n=len(a)\n",
    "\n",
    "for i in range(0,n-1):\n",
    "    i<=n\n",
    "    x1=int(a[i])\n",
    "    x2=int(a[i-1])\n",
    "\n",
    "if  1<(x1-x2)<=len(n-1):\n",
    "        print('Jolly')\n",
    "    \n",
    "else:\n",
    "        print('Not jolly')\n",
    "    "
   ]
  },
  {
   "cell_type": "markdown",
   "metadata": {},
   "source": [
    "### 再一次"
   ]
  },
  {
   "cell_type": "code",
   "execution_count": 18,
   "metadata": {},
   "outputs": [
    {
     "name": "stdout",
     "output_type": "stream",
     "text": [
      "5768740403\n",
      "10 5768740403\n"
     ]
    }
   ],
   "source": [
    "n=input()\n",
    "m=len(n)\n",
    "print(m,n)"
   ]
  },
  {
   "cell_type": "code",
   "execution_count": 22,
   "metadata": {},
   "outputs": [
    {
     "data": {
      "text/plain": [
       "True"
      ]
     },
     "execution_count": 22,
     "metadata": {},
     "output_type": "execute_result"
    }
   ],
   "source": [
    "int(n[1])-int(n[0])>=1"
   ]
  },
  {
   "cell_type": "code",
   "execution_count": 21,
   "metadata": {},
   "outputs": [
    {
     "data": {
      "text/plain": [
       "True"
      ]
     },
     "execution_count": 21,
     "metadata": {},
     "output_type": "execute_result"
    }
   ],
   "source": [
    "int(n[1])-int(n[0])<=(m-1)"
   ]
  },
  {
   "cell_type": "code",
   "execution_count": 29,
   "metadata": {},
   "outputs": [
    {
     "name": "stdout",
     "output_type": "stream",
     "text": [
      "1423\n",
      "Jolly\n"
     ]
    }
   ],
   "source": [
    "n=input()\n",
    "m=int(len(n))\n",
    "i=m\n",
    "for i in range(0,m):\n",
    "    x1= int(n[i])-int(n[i-1])\n",
    "if 1<= x1 <= (m-1):\n",
    "    print('Jolly')\n",
    "else:\n",
    "    print('Not jolly')\n"
   ]
  },
  {
   "cell_type": "code",
   "execution_count": 30,
   "metadata": {},
   "outputs": [
    {
     "name": "stdout",
     "output_type": "stream",
     "text": [
      "The following commands were written to file `'Q10038.py`:\n",
      "n=input()\n",
      "m=int(len(n))\n",
      "i=m\n",
      "for i in range(0,m):\n",
      "    x1= int(n[i])-int(n[i-1])\n",
      "if 1<= x1 <= (m-1):\n",
      "    print('Jolly')\n",
      "else:\n",
      "    print('Not jolly')\n"
     ]
    }
   ],
   "source": [
    "%save 'Q10038 Jolly Jumpers.py' 29 "
   ]
  },
  {
   "cell_type": "code",
   "execution_count": null,
   "metadata": {},
   "outputs": [],
   "source": []
  }
 ],
 "metadata": {
  "kernelspec": {
   "display_name": "Python 3",
   "language": "python",
   "name": "python3"
  },
  "language_info": {
   "codemirror_mode": {
    "name": "ipython",
    "version": 3
   },
   "file_extension": ".py",
   "mimetype": "text/x-python",
   "name": "python",
   "nbconvert_exporter": "python",
   "pygments_lexer": "ipython3",
   "version": "3.7.3"
  }
 },
 "nbformat": 4,
 "nbformat_minor": 2
}
