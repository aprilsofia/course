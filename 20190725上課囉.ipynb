{
 "cells": [
  {
   "cell_type": "markdown",
   "metadata": {},
   "source": [
    "## 第一題"
   ]
  },
  {
   "cell_type": "code",
   "execution_count": 7,
   "metadata": {},
   "outputs": [
    {
     "name": "stdout",
     "output_type": "stream",
     "text": [
      "0 0 0\n",
      "0 0 0 AND OR XOR\n"
     ]
    }
   ],
   "source": [
    "m0=input()\n",
    "m3=m0.split(' ')\n",
    "a=int(m3[0])\n",
    "b = int(m3[1])\n",
    "c = int(m3[2])\n",
    "if a==0:\n",
    "    if b==0:\n",
    "        print(a,b,c,'AND','OR',\"XOR\")\n",
    "\n",
    "    "
   ]
  },
  {
   "cell_type": "code",
   "execution_count": 1,
   "metadata": {},
   "outputs": [
    {
     "name": "stdout",
     "output_type": "stream",
     "text": [
      "3 0 1\n"
     ]
    },
    {
     "data": {
      "text/plain": [
       "'3 0 1'"
      ]
     },
     "execution_count": 1,
     "metadata": {},
     "output_type": "execute_result"
    }
   ],
   "source": [
    "m0=input()\n",
    "m0"
   ]
  },
  {
   "cell_type": "code",
   "execution_count": 2,
   "metadata": {},
   "outputs": [
    {
     "data": {
      "text/plain": [
       "['3', ' ', '0', ' ', '1']"
      ]
     },
     "execution_count": 2,
     "metadata": {},
     "output_type": "execute_result"
    }
   ],
   "source": [
    "m1=list(m0)\n",
    "m1"
   ]
  },
  {
   "cell_type": "code",
   "execution_count": 3,
   "metadata": {},
   "outputs": [
    {
     "data": {
      "text/plain": [
       "['3', '0', '1']"
      ]
     },
     "execution_count": 3,
     "metadata": {},
     "output_type": "execute_result"
    }
   ],
   "source": [
    "m2=m0.split()\n",
    "m2"
   ]
  },
  {
   "cell_type": "code",
   "execution_count": 8,
   "metadata": {},
   "outputs": [
    {
     "data": {
      "text/plain": [
       "['3', '0', '1']"
      ]
     },
     "execution_count": 8,
     "metadata": {},
     "output_type": "execute_result"
    }
   ],
   "source": [
    "m3=m0.split(' ')\n",
    "m3"
   ]
  },
  {
   "cell_type": "code",
   "execution_count": 9,
   "metadata": {},
   "outputs": [
    {
     "data": {
      "text/plain": [
       "3"
      ]
     },
     "execution_count": 9,
     "metadata": {},
     "output_type": "execute_result"
    }
   ],
   "source": [
    "a=int(m3[0])\n",
    "a"
   ]
  },
  {
   "cell_type": "code",
   "execution_count": 12,
   "metadata": {},
   "outputs": [
    {
     "data": {
      "text/plain": [
       "0"
      ]
     },
     "execution_count": 12,
     "metadata": {},
     "output_type": "execute_result"
    }
   ],
   "source": [
    "b = int(m3[1])\n",
    "b"
   ]
  },
  {
   "cell_type": "code",
   "execution_count": 11,
   "metadata": {},
   "outputs": [
    {
     "name": "stdout",
     "output_type": "stream",
     "text": [
      "0\n"
     ]
    }
   ],
   "source": []
  },
  {
   "cell_type": "markdown",
   "metadata": {},
   "source": [
    "## 老師解答"
   ]
  },
  {
   "cell_type": "code",
   "execution_count": 5,
   "metadata": {},
   "outputs": [
    {
     "name": "stdout",
     "output_type": "stream",
     "text": [
      "0 0 0\n",
      "AND\n",
      "OR\n",
      "XOR\n"
     ]
    }
   ],
   "source": [
    "line = input().split()\n",
    "a,b,c = map(int,line)\n",
    "if a!=0:\n",
    "    a=1\n",
    "if b!=0:\n",
    "    b=1\n",
    "if c!=0:\n",
    "    c=1\n",
    "fail = True\n",
    "if (a & b == c):\n",
    "    print('AND')\n",
    "    fail = False\n",
    "if (a | b == c):\n",
    "    print('OR')\n",
    "    fail = False\n",
    "if (a ^ b == c):\n",
    "    print('XOR')\n",
    "    fail = False\n",
    "if fail:\n",
    "    print('IMPOSSIBLE')"
   ]
  },
  {
   "cell_type": "markdown",
   "metadata": {},
   "source": [
    "## 第二題"
   ]
  },
  {
   "cell_type": "code",
   "execution_count": 5,
   "metadata": {},
   "outputs": [
    {
     "name": "stdout",
     "output_type": "stream",
     "text": [
      "tjgjirHJJ\n"
     ]
    },
    {
     "data": {
      "text/plain": [
       "'tjgjirHJJ'"
      ]
     },
     "execution_count": 5,
     "metadata": {},
     "output_type": "execute_result"
    }
   ],
   "source": [
    "st = input()\n",
    "st"
   ]
  },
  {
   "cell_type": "code",
   "execution_count": 19,
   "metadata": {},
   "outputs": [
    {
     "name": "stdout",
     "output_type": "stream",
     "text": [
      "t = 0\n",
      "j = 0\n",
      "g = 0\n",
      "j = 0\n",
      "i = 0\n",
      "r = 0\n",
      "H = 1\n",
      "J = 1\n",
      "J = 1\n"
     ]
    }
   ],
   "source": [
    "for litter in st:\n",
    "    print(f\"{litter} = \", end='')\n",
    "    if litter.islower():\n",
    "        print(0)\n",
    "        \n",
    "    if litter.isupper():\n",
    "        print(1)"
   ]
  },
  {
   "cell_type": "code",
   "execution_count": 24,
   "metadata": {},
   "outputs": [],
   "source": [
    "newst = []\n",
    "newst.append('litter')\n"
   ]
  },
  {
   "cell_type": "code",
   "execution_count": 10,
   "metadata": {},
   "outputs": [
    {
     "ename": "NameError",
     "evalue": "name 'islower' is not defined",
     "output_type": "error",
     "traceback": [
      "\u001b[1;31m---------------------------------------------------------------------------\u001b[0m",
      "\u001b[1;31mNameError\u001b[0m                                 Traceback (most recent call last)",
      "\u001b[1;32m<ipython-input-10-cddaece72e35>\u001b[0m in \u001b[0;36m<module>\u001b[1;34m\u001b[0m\n\u001b[1;32m----> 1\u001b[1;33m \u001b[1;32mif\u001b[0m  \u001b[0mislower\u001b[0m\u001b[1;33m(\u001b[0m\u001b[0mst\u001b[0m\u001b[1;33m[\u001b[0m\u001b[1;36m0\u001b[0m\u001b[1;33m]\u001b[0m\u001b[1;33m)\u001b[0m\u001b[1;33m:\u001b[0m\u001b[1;33m\u001b[0m\u001b[1;33m\u001b[0m\u001b[0m\n\u001b[0m\u001b[0;32m      2\u001b[0m     \u001b[0mprint\u001b[0m\u001b[1;33m(\u001b[0m\u001b[1;36m0\u001b[0m\u001b[1;33m)\u001b[0m\u001b[1;33m\u001b[0m\u001b[1;33m\u001b[0m\u001b[0m\n\u001b[0;32m      3\u001b[0m \u001b[1;32melif\u001b[0m \u001b[0misupper\u001b[0m\u001b[1;33m(\u001b[0m\u001b[0mst\u001b[0m\u001b[1;33m[\u001b[0m\u001b[1;36m0\u001b[0m\u001b[1;33m]\u001b[0m\u001b[1;33m)\u001b[0m\u001b[1;33m:\u001b[0m\u001b[1;33m\u001b[0m\u001b[1;33m\u001b[0m\u001b[0m\n\u001b[0;32m      4\u001b[0m     \u001b[0mprint\u001b[0m\u001b[1;33m(\u001b[0m\u001b[1;36m1\u001b[0m\u001b[1;33m)\u001b[0m\u001b[1;33m\u001b[0m\u001b[1;33m\u001b[0m\u001b[0m\n\u001b[0;32m      5\u001b[0m \u001b[1;33m\u001b[0m\u001b[0m\n",
      "\u001b[1;31mNameError\u001b[0m: name 'islower' is not defined"
     ]
    }
   ],
   "source": [
    "if islower(st[0]):\n",
    "    print(0)\n",
    "elif isupper(st[0]):\n",
    "    print(1)\n",
    "    "
   ]
  },
  {
   "cell_type": "code",
   "execution_count": 16,
   "metadata": {},
   "outputs": [
    {
     "data": {
      "text/plain": [
       "True"
      ]
     },
     "execution_count": 16,
     "metadata": {},
     "output_type": "execute_result"
    }
   ],
   "source": [
    "st[0].islower()"
   ]
  },
  {
   "cell_type": "code",
   "execution_count": 15,
   "metadata": {},
   "outputs": [
    {
     "data": {
      "text/plain": [
       "True"
      ]
     },
     "execution_count": 15,
     "metadata": {},
     "output_type": "execute_result"
    }
   ],
   "source": [
    "someLitter =  'ii'\n",
    "someLitter.islower()"
   ]
  },
  {
   "cell_type": "markdown",
   "metadata": {},
   "source": [
    "## 老師解答"
   ]
  },
  {
   "cell_type": "code",
   "execution_count": 25,
   "metadata": {},
   "outputs": [],
   "source": [
    "#可以先寫短的，再一一測試之"
   ]
  },
  {
   "cell_type": "code",
   "execution_count": 6,
   "metadata": {},
   "outputs": [
    {
     "name": "stdout",
     "output_type": "stream",
     "text": [
      "1\n",
      "aBBdaaa\n",
      "2\n"
     ]
    }
   ],
   "source": [
    "k = int(input())\n",
    "line = input()\n",
    "\n",
    "st=''.join([str(int(x.isupper())) for x in line])\n",
    "\n",
    "pattern = ['0'*k,'1'*k]\n",
    "p0 = ''\n",
    "p1 = ''\n",
    "            \n",
    "c= True\n",
    "m=0\n",
    "            \n",
    "while c:\n",
    "    p0 = p0 + pattern[m%2]\n",
    "    p1 = p1 + pattern[(m+1)%2]\n",
    "    \n",
    "    if (p0 in st) or (p1 in st):\n",
    "        m=m+1\n",
    "    else:\n",
    "        c=False\n",
    "            \n",
    "print(m*k)\n"
   ]
  },
  {
   "cell_type": "code",
   "execution_count": 22,
   "metadata": {
    "scrolled": true
   },
   "outputs": [
    {
     "name": "stdout",
     "output_type": "stream",
     "text": [
      " 磁碟區 C 中的磁碟是 Windows 10\n",
      " 磁碟區序號:  7467-DC62\n",
      "\n",
      " C:\\Users\\特教辦公室\\Desktop\\python 的目錄\n",
      "\n",
      "2019/07/25  下午 02:13    <DIR>          .\n",
      "2019/07/25  下午 02:13    <DIR>          ..\n",
      "2019/07/25  下午 01:08    <DIR>          .ipynb_checkpoints\n",
      "2019/07/16  下午 01:38             3,583 20190716.ipynb\n",
      "2019/07/20  上午 09:39             7,342 20190716愛心.ipynb\n",
      "2019/07/21  下午 12:53            25,231 20190717上課.ipynb\n",
      "2019/07/20  下午 01:55            23,290 20190718上課.ipynb\n",
      "2019/07/23  下午 12:53             1,060 20190722.ipynb\n",
      "2019/07/24  下午 10:59           538,316 20190723.ipynb\n",
      "2019/07/24  下午 01:17            18,815 20190724--APCS突破.ipynb\n",
      "2019/07/25  下午 02:13            12,135 20190725上課囉.ipynb\n",
      "2019/07/17  下午 04:17               514 game.py\n",
      "2019/07/17  下午 10:19            21,552 markdown.ipynb\n",
      "2019/07/16  下午 01:40               576 markdown語法.ipynb\n",
      "2019/07/24  下午 07:54                42 mydic.csv\n",
      "2019/07/23  下午 03:01                84 mydic.cvs\n",
      "2019/07/24  下午 07:55                89 mydic.pickle\n",
      "2019/07/24  上午 11:09               145 p1.py\n",
      "2019/07/25  下午 01:53               370 p2.py\n",
      "2019/07/25  下午 01:57                12 p2t01.txt\n",
      "2019/07/22  下午 04:09               653 poem.py\n",
      "2019/07/23  上午 11:31             1,037 Q10696.ipynb\n",
      "2019/07/21  下午 04:10             7,046 Q10783多種想法.ipynb\n",
      "2019/07/22  下午 08:06                 0 Q1225\n",
      "2019/07/24  上午 11:16                57 test01.txt\n",
      "2019/07/24  上午 11:16                72 test02.txt\n",
      "2019/07/20  下午 01:50             1,711 Untitled3.ipynb\n",
      "2019/07/21  下午 12:47             1,672 互動練習.ipynb\n",
      "2019/07/23  下午 08:28             4,306 可愛龍.jpg\n",
      "2019/07/20  上午 10:29             3,090 回文.ipynb\n",
      "2019/07/20  上午 10:25             6,497 回文-Copy1.ipynb\n",
      "2019/07/21  下午 05:16             2,842 字典格式.ipynb\n",
      "2019/07/23  下午 10:07            12,605 自行練習-- display 的Markdown20190723.ipynb\n",
      "2019/07/23  下午 01:10             3,404 自行練習--互動功能.ipynb\n",
      "2019/07/22  下午 01:12               658 自行練習--分割.ipynb\n",
      "2019/07/25  下午 01:08             2,756 自行練習--函數.ipynb\n",
      "2019/07/25  上午 08:59    <DIR>          自行練習區\n",
      "2019/07/25  下午 01:09               555 自行練習--問號.ipynb\n",
      "2019/07/25  上午 08:53             9,393 自行練習--新銳文青新詩創作.ipynb\n",
      "2019/07/23  下午 01:19             4,021 自行練習--體重分布.ipynb\n",
      "2019/07/24  下午 06:16             7,851 助教觀念題.ipynb\n",
      "2019/07/23  下午 08:26             5,502 呱呱.jpg\n",
      "2019/07/23  下午 07:04             2,192 河馬.jpg\n",
      "2019/07/18  下午 07:42             2,395 花媽群組.ipynb\n",
      "2019/07/18  下午 07:48             3,179 花媽群組.py\n",
      "2019/07/21  下午 04:23             1,298 借參考Q10018.ipynb\n",
      "2019/07/20  下午 05:40             2,208 借參考Q488.ipynb\n",
      "2019/07/16  下午 10:09            45,718 第一周作業.ipynb\n",
      "2019/07/23  下午 08:27             7,231 開心豬.jpg\n",
      "2019/07/23  下午 07:04             3,024 愛喝水.png\n",
      "2019/07/23  下午 07:04             3,079 愛蘋果.jpg\n",
      "2019/07/23  下午 08:29    <DIR>          圖檔\n",
      "2019/07/21  下午 02:26             6,623 線上作業2.ipynb\n",
      "2019/07/23  下午 01:19             9,015 線上作業--Q1225(另含概念).ipynb\n",
      "2019/07/22  下午 08:10             4,958 線上作業-Q1225.ipynb\n",
      "2019/07/18  下午 06:41            35,614 練習.ipynb\n",
      "              51 個檔案         855,418 位元組\n",
      "               5 個目錄  91,988,193,280 位元組可用\n"
     ]
    }
   ],
   "source": [
    "%ls"
   ]
  },
  {
   "cell_type": "markdown",
   "metadata": {},
   "source": [
    "#### 用\"%ls\"可以看所有的程式檔"
   ]
  },
  {
   "cell_type": "code",
   "execution_count": 9,
   "metadata": {},
   "outputs": [
    {
     "name": "stdout",
     "output_type": "stream",
     "text": [
      "The following commands were written to file `p2.py`:\n",
      "k = int(input())\n",
      "line = input()\n",
      "\n",
      "st=''.join([str(int(x.isupper())) for x in line])\n",
      "\n",
      "pattern = ['0'*k,'1'*k]\n",
      "p0 = ''\n",
      "p1 = ''\n",
      "            \n",
      "c= True\n",
      "m=0\n",
      "            \n",
      "while c:\n",
      "    p0 = p0 + pattern[m%2]\n",
      "    p1 = p1 + pattern[(m+1)%2]\n",
      "    \n",
      "    if (p0 in st) or (p1 in st):\n",
      "        m=m+1\n",
      "    else:\n",
      "        c=False\n",
      "            \n",
      "print(m*k)\n"
     ]
    }
   ],
   "source": [
    "%save \"p2.py\" 6"
   ]
  },
  {
   "cell_type": "code",
   "execution_count": 12,
   "metadata": {},
   "outputs": [
    {
     "name": "stdout",
     "output_type": "stream",
     "text": [
      "Overwriting p2t01.txt\n"
     ]
    }
   ],
   "source": [
    "%%writefile \"p2t01.txt\"\n",
    "1\n",
    "aBBdaaa"
   ]
  },
  {
   "cell_type": "code",
   "execution_count": 13,
   "metadata": {},
   "outputs": [
    {
     "name": "stdout",
     "output_type": "stream",
     "text": [
      "2\n"
     ]
    }
   ],
   "source": [
    "!python p2.py<p2t01.txt"
   ]
  },
  {
   "cell_type": "code",
   "execution_count": 23,
   "metadata": {},
   "outputs": [
    {
     "name": "stdout",
     "output_type": "stream",
     "text": [
      "Writing p2t02.txt\n"
     ]
    }
   ],
   "source": [
    "%%writefile \"p2t02.txt\"\n",
    "3\n",
    "DDaasAAbbCC"
   ]
  },
  {
   "cell_type": "code",
   "execution_count": 25,
   "metadata": {},
   "outputs": [
    {
     "name": "stdout",
     "output_type": "stream",
     "text": [
      "Writing p2t03.txt\n"
     ]
    }
   ],
   "source": [
    "%%writefile \"p2t03.txt\"\n",
    "2\n",
    "aafAXbbCDCCC"
   ]
  },
  {
   "cell_type": "code",
   "execution_count": 26,
   "metadata": {},
   "outputs": [
    {
     "name": "stdout",
     "output_type": "stream",
     "text": [
      "Writing p2t03.text\n"
     ]
    }
   ],
   "source": [
    "%%writefile \"p2t03.text\"\n",
    "3\n",
    "DDaaAAbbCC"
   ]
  },
  {
   "cell_type": "code",
   "execution_count": null,
   "metadata": {},
   "outputs": [],
   "source": []
  },
  {
   "cell_type": "markdown",
   "metadata": {},
   "source": [
    "## 新指令 :enumerate"
   ]
  },
  {
   "cell_type": "code",
   "execution_count": 15,
   "metadata": {},
   "outputs": [
    {
     "data": {
      "text/plain": [
       "['a', 'b', 'f', 'd', 'c', 'd', 'f', 'F', 'D']"
      ]
     },
     "execution_count": 15,
     "metadata": {},
     "output_type": "execute_result"
    }
   ],
   "source": [
    "L=list('abfdcdfFD')\n",
    "L"
   ]
  },
  {
   "cell_type": "code",
   "execution_count": 17,
   "metadata": {},
   "outputs": [
    {
     "name": "stdout",
     "output_type": "stream",
     "text": [
      "0 a\n",
      "1 b\n",
      "2 f\n",
      "3 d\n",
      "4 c\n",
      "5 d\n",
      "6 f\n",
      "7 F\n",
      "8 D\n"
     ]
    }
   ],
   "source": [
    "for i in range(len(L)):\n",
    "    print(i,L[i])"
   ]
  },
  {
   "cell_type": "code",
   "execution_count": 19,
   "metadata": {},
   "outputs": [
    {
     "name": "stdout",
     "output_type": "stream",
     "text": [
      "0 a\n",
      "1 b\n",
      "2 f\n",
      "3 d\n",
      "4 c\n",
      "5 d\n",
      "6 f\n",
      "7 F\n",
      "8 D\n"
     ]
    }
   ],
   "source": [
    "for i,x in enumerate(L):\n",
    "    print(i,x)"
   ]
  },
  {
   "cell_type": "markdown",
   "metadata": {},
   "source": [
    "#### 以上的結果是一樣的!"
   ]
  },
  {
   "cell_type": "code",
   "execution_count": null,
   "metadata": {},
   "outputs": [],
   "source": []
  }
 ],
 "metadata": {
  "kernelspec": {
   "display_name": "Python 3",
   "language": "python",
   "name": "python3"
  },
  "language_info": {
   "codemirror_mode": {
    "name": "ipython",
    "version": 3
   },
   "file_extension": ".py",
   "mimetype": "text/x-python",
   "name": "python",
   "nbconvert_exporter": "python",
   "pygments_lexer": "ipython3",
   "version": "3.7.3"
  }
 },
 "nbformat": 4,
 "nbformat_minor": 2
}
