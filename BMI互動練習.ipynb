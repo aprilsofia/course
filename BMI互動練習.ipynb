{
 "cells": [
  {
   "cell_type": "code",
   "execution_count": 10,
   "metadata": {},
   "outputs": [],
   "source": [
    "%matplotlib inline\n",
    "\n",
    "import numpy as np\n",
    "import matplotlib.pyplot as plt"
   ]
  },
  {
   "cell_type": "code",
   "execution_count": 11,
   "metadata": {},
   "outputs": [],
   "source": [
    "from ipywidgets import interact_manual"
   ]
  },
  {
   "cell_type": "code",
   "execution_count": 67,
   "metadata": {},
   "outputs": [],
   "source": [
    "def BMI(身高,體重):\n",
    "    身高= float(身高)/100\n",
    "    體重= float(體重)\n",
    "    bmi= 體重/(身高**2)\n",
    "    i=0\n",
    "    if bmi<float(18.5): \n",
    "        i=str('您的BMI值過輕，過瘦會有營養不良等健康問題，要多補充營養')\n",
    "        \n",
    "    elif float(18.500) <= bmi < float(24):        \n",
    "        i=str('您的BMI值在正常範圍內，請繼續保持良好的健康習慣')\n",
    "        \n",
    "    elif float(24.0) <= bmi < float(100):        \n",
    "        i=str('您的BMI值超過正常範圍，過重為慢性疾病的主要風險因素，建議諮詢營養師以維護您的身體健康')\n",
    "              \n",
    "    print('您的BMI值為:{:.2f},   診斷建議:{}'.format(bmi,i))\n",
    "    \n",
    "        \n",
    "    "
   ]
  },
  {
   "cell_type": "code",
   "execution_count": 68,
   "metadata": {},
   "outputs": [
    {
     "data": {
      "application/vnd.jupyter.widget-view+json": {
       "model_id": "867213912673429fbbefd3b80cdd6cea",
       "version_major": 2,
       "version_minor": 0
      },
      "text/plain": [
       "interactive(children=(Text(value='請輸入您的身高', description='身高'), Text(value='請輸入您的體重', description='體重'), Button…"
      ]
     },
     "metadata": {},
     "output_type": "display_data"
    }
   ],
   "source": [
    "interact_manual(BMI,身高='請輸入您的身高',體重='請輸入您的體重');"
   ]
  },
  {
   "cell_type": "code",
   "execution_count": null,
   "metadata": {},
   "outputs": [],
   "source": []
  }
 ],
 "metadata": {
  "kernelspec": {
   "display_name": "Python 3",
   "language": "python",
   "name": "python3"
  },
  "language_info": {
   "codemirror_mode": {
    "name": "ipython",
    "version": 3
   },
   "file_extension": ".py",
   "mimetype": "text/x-python",
   "name": "python",
   "nbconvert_exporter": "python",
   "pygments_lexer": "ipython3",
   "version": "3.7.3"
  }
 },
 "nbformat": 4,
 "nbformat_minor": 2
}
