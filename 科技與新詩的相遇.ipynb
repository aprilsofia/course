{
 "cells": [
  {
   "cell_type": "markdown",
   "metadata": {},
   "source": [
    "# 新銳文青新詩創作"
   ]
  },
  {
   "cell_type": "code",
   "execution_count": 1,
   "metadata": {},
   "outputs": [],
   "source": [
    "from random import randint,choices,sample"
   ]
  },
  {
   "cell_type": "code",
   "execution_count": 2,
   "metadata": {},
   "outputs": [],
   "source": [
    "st='''喜歡一個{}的角落\n",
    "但不能喜歡太多\n",
    "當雨忽然落下\n",
    "我們沿著{}快跑\n",
    "\n",
    "{}讓我們相遇\n",
    "他的{}\n",
    "濕潤的鼻息\n",
    "\n",
    "喜歡一個人{}的時刻\n",
    "但不能喜歡太多\n",
    "在{}或{}\n",
    "\n",
    "{}像睡眠一樣\n",
    "餵養我們\n",
    "\n",
    "以永無止盡的{}\n",
    "需要以{}取暖'''"
   ]
  },
  {
   "cell_type": "code",
   "execution_count": 3,
   "metadata": {},
   "outputs": [
    {
     "name": "stdout",
     "output_type": "stream",
     "text": [
      "看到[山脈]你會想到>>遼闊\n",
      "看到[彩虹]你會想到>>獨角獸\n",
      "聽到[風聲]你會想到>>舒服\n",
      "搭乘交通工具你會想到>>旅行\n",
      "聽到一首歌你會想到>>懷念\n",
      "聽到[水聲]你會想到>>波浪\n",
      "看到[圓]你會想到>>太陽\n",
      "看到[食物]你會想到>>美味\n",
      "踩在草地上你會想到>>野餐\n",
      "聞到香味你會想到>>花園\n"
     ]
    }
   ],
   "source": [
    "a=input('看到[山脈]你會想到>>')\n",
    "b=input('看到[彩虹]你會想到>>')\n",
    "c=input('聽到[風聲]你會想到>>')\n",
    "d=input('搭乘交通工具你會想到>>')\n",
    "e=input('聽到一首歌你會想到>>')\n",
    "f=input('聽到[水聲]你會想到>>')\n",
    "g=input('看到[圓]你會想到>>')\n",
    "h=input('看到[食物]你會想到>>')\n",
    "i=input('踩在草地上你會想到>>')\n",
    "j=input('聞到香味你會想到>>')"
   ]
  },
  {
   "cell_type": "code",
   "execution_count": 9,
   "metadata": {},
   "outputs": [],
   "source": [
    "L = [a,b,c,d,e,f,g,h,i,j]"
   ]
  },
  {
   "cell_type": "code",
   "execution_count": 10,
   "metadata": {},
   "outputs": [
    {
     "data": {
      "text/plain": [
       "['遼闊', '獨角獸', '舒服', '旅行', '懷念', '波浪', '太陽', '美味', '野餐', '花園']"
      ]
     },
     "execution_count": 10,
     "metadata": {},
     "output_type": "execute_result"
    }
   ],
   "source": [
    "L"
   ]
  },
  {
   "cell_type": "code",
   "execution_count": 11,
   "metadata": {},
   "outputs": [],
   "source": [
    "from random import choices"
   ]
  },
  {
   "cell_type": "code",
   "execution_count": 12,
   "metadata": {},
   "outputs": [],
   "source": [
    "a1,b1,c1,d1,e1,f1,g1,h1,i1,j1 = choices(L, k=10)"
   ]
  },
  {
   "cell_type": "code",
   "execution_count": 13,
   "metadata": {},
   "outputs": [
    {
     "name": "stdout",
     "output_type": "stream",
     "text": [
      "喜歡一個花園的角落\n",
      "但不能喜歡太多\n",
      "當雨忽然落下\n",
      "我們沿著野餐快跑\n",
      "\n",
      "獨角獸讓我們相遇\n",
      "他的花園\n",
      "濕潤的鼻息\n",
      "\n",
      "喜歡一個人花園的時刻\n",
      "但不能喜歡太多\n",
      "在懷念或美味\n",
      "\n",
      "太陽像睡眠一樣\n",
      "餵養我們\n",
      "\n",
      "以永無止盡的獨角獸\n",
      "需要以獨角獸取暖\n"
     ]
    }
   ],
   "source": [
    "print(st.format(a1,b1,c1,d1,e1,f1,g1,h1,i1,j1))"
   ]
  },
  {
   "cell_type": "code",
   "execution_count": null,
   "metadata": {},
   "outputs": [],
   "source": []
  }
 ],
 "metadata": {
  "kernelspec": {
   "display_name": "Python 3",
   "language": "python",
   "name": "python3"
  },
  "language_info": {
   "codemirror_mode": {
    "name": "ipython",
    "version": 3
   },
   "file_extension": ".py",
   "mimetype": "text/x-python",
   "name": "python",
   "nbconvert_exporter": "python",
   "pygments_lexer": "ipython3",
   "version": "3.7.3"
  }
 },
 "nbformat": 4,
 "nbformat_minor": 2
}
