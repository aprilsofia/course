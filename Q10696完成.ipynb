{
 "cells": [
  {
   "cell_type": "markdown",
   "metadata": {},
   "source": [
    "# Q10696 : f91"
   ]
  },
  {
   "cell_type": "markdown",
   "metadata": {},
   "source": [
    "#### McCarthy是一個有名的資訊專家。他定義了一個遞迴的函數叫做 f91 。它輸入一個正整數N並且依據以下的規則傳回一個正整數：\n",
    "\n",
    ". 如果 N <= 100, 那麼 f91(N) = f91( f91( N+11) )\n",
    "\n",
    ". 如果 N >= 101, 那麼 f91(N) = N-10\n",
    "\n",
    "請你寫一個程式來計算 f91"
   ]
  },
  {
   "cell_type": "markdown",
   "metadata": {},
   "source": [
    "###### 每組測試資料一列。含有1個正整數 N（ N <= 1000000）。輸入最多有250000組測試資料。\n",
    "\n",
    "若 N=0 代表輸入結束。\n",
    "\n",
    "對每組測試資料輸出一列 f91(N)。"
   ]
  },
  {
   "cell_type": "code",
   "execution_count": 5,
   "metadata": {},
   "outputs": [
    {
     "name": "stdout",
     "output_type": "stream",
     "text": [
      "0\n",
      "f91(0)=91\n",
      "f91(0)=91\n"
     ]
    }
   ],
   "source": [
    "def f91(N):\n",
    "    if N<=100:\n",
    "        i= f91(f91(N+11))\n",
    "        return(i)\n",
    "    \n",
    "    else:\n",
    "        j=N-10\n",
    "        return(j)\n",
    "\n",
    "N=int(input())\n",
    "\n",
    "\n",
    "result = f91(N)\n",
    "\n",
    "print(\"f91({})={}\".format(N,result))\n",
    "print(f\"f91({N})={result}\")\n",
    "\n"
   ]
  },
  {
   "cell_type": "code",
   "execution_count": 6,
   "metadata": {},
   "outputs": [
    {
     "name": "stdout",
     "output_type": "stream",
     "text": [
      "4\n",
      "f91(4)=91\n",
      "f91(4)=91\n",
      "900\n",
      "f91(900)=890\n",
      "f91(900)=890\n",
      "100000\n",
      "f91(100000)=99990\n",
      "f91(100000)=99990\n",
      "345\n",
      "f91(345)=335\n",
      "f91(345)=335\n",
      "90\n",
      "f91(90)=91\n",
      "f91(90)=91\n",
      "0\n"
     ]
    }
   ],
   "source": [
    "N=1\n",
    "\n",
    "while N !=0:\n",
    "    def f91(N):\n",
    "        if N<=100:\n",
    "            i= f91(f91(N+11))\n",
    "            return(i)\n",
    "\n",
    "        else:\n",
    "            j=N-10\n",
    "            return(j)\n",
    "\n",
    "    N=int(input())\n",
    "    if N == 0:\n",
    "        break\n",
    "\n",
    "    result = f91(N)\n",
    "\n",
    "    print(\"f91({})={}\".format(N,result))  ## 這兩種輸出方式，都可以達到題目要求。\n",
    "    print(f\"f91({N})={result}\")\n",
    "\n"
   ]
  }
 ],
 "metadata": {
  "kernelspec": {
   "display_name": "Python 3",
   "language": "python",
   "name": "python3"
  },
  "language_info": {
   "codemirror_mode": {
    "name": "ipython",
    "version": 3
   },
   "file_extension": ".py",
   "mimetype": "text/x-python",
   "name": "python",
   "nbconvert_exporter": "python",
   "pygments_lexer": "ipython3",
   "version": "3.7.3"
  }
 },
 "nbformat": 4,
 "nbformat_minor": 2
}
