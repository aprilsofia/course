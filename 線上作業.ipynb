{
 "cells": [
  {
   "cell_type": "markdown",
   "metadata": {},
   "source": [
    "# Q1225: Digit Counting"
   ]
  },
  {
   "cell_type": "markdown",
   "metadata": {},
   "source": [
    "小明在寫他的數學作業，越寫越覺得無聊。於是他拿起粉筆開始從1寫到N。然後，他去算他每個阿拉伯數字（0～9）分別寫多少次。例如：N＝13, 他所寫的數字串如下：\n",
    "12345678910111213\n",
    "在這個數字串中，0出現1次，1出現6次，2出現2次，3出現2次，4到9都出現1次。 在玩了一陣子之後，小明又覺得無聊了。他想要寫一個程式來算一算每個阿拉伯數字出現幾次。\n",
    "\n",
    "任務:幫他寫這個程式"
   ]
  },
  {
   "cell_type": "code",
   "execution_count": 33,
   "metadata": {},
   "outputs": [
    {
     "name": "stdout",
     "output_type": "stream",
     "text": [
      "請輸入需要計數字串(阿拉伯數字):124575765746376\n",
      "124575765746376\n"
     ]
    }
   ],
   "source": [
    "a=input (\"請輸入需要計數字串\"+\"(阿拉伯數字):\")\n",
    "print(a)"
   ]
  },
  {
   "cell_type": "code",
   "execution_count": 49,
   "metadata": {},
   "outputs": [
    {
     "ename": "IndentationError",
     "evalue": "unexpected indent (<ipython-input-49-3a3c35e0c7c2>, line 3)",
     "output_type": "error",
     "traceback": [
      "\u001b[1;36m  File \u001b[1;32m\"<ipython-input-49-3a3c35e0c7c2>\"\u001b[1;36m, line \u001b[1;32m3\u001b[0m\n\u001b[1;33m    from c import Cout\u001b[0m\n\u001b[1;37m    ^\u001b[0m\n\u001b[1;31mIndentationError\u001b[0m\u001b[1;31m:\u001b[0m unexpected indent\n"
     ]
    }
   ],
   "source": [
    "c = [print(a)]\n",
    "    \n",
    "     from c import Cout \n",
    "   "
   ]
  },
  {
   "cell_type": "code",
   "execution_count": 45,
   "metadata": {},
   "outputs": [
    {
     "ename": "SyntaxError",
     "evalue": "unexpected EOF while parsing (<ipython-input-45-865c5bc19294>, line 2)",
     "output_type": "error",
     "traceback": [
      "\u001b[1;36m  File \u001b[1;32m\"<ipython-input-45-865c5bc19294>\"\u001b[1;36m, line \u001b[1;32m2\u001b[0m\n\u001b[1;33m    \u001b[0m\n\u001b[1;37m    ^\u001b[0m\n\u001b[1;31mSyntaxError\u001b[0m\u001b[1;31m:\u001b[0m unexpected EOF while parsing\n"
     ]
    }
   ],
   "source": [
    "for i in print(a):\n",
    "    \n"
   ]
  },
  {
   "cell_type": "code",
   "execution_count": null,
   "metadata": {},
   "outputs": [],
   "source": []
  }
 ],
 "metadata": {
  "kernelspec": {
   "display_name": "Python 3",
   "language": "python",
   "name": "python3"
  }
 },
 "nbformat": 4,
 "nbformat_minor": 2
}
