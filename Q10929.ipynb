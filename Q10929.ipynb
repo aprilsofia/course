{
 "cells": [
  {
   "cell_type": "markdown",
   "metadata": {},
   "source": [
    "## Q10929: You can say 11\n",
    "你的任務是，給你一個正整數 N，判定它是否是 11 的倍數。"
   ]
  },
  {
   "cell_type": "markdown",
   "metadata": {},
   "source": [
    "每列資料有一個正整數N，N 最大可能到 1000 位數。\n",
    "\n",
    "若 N = 0 代表輸入結束。"
   ]
  },
  {
   "cell_type": "code",
   "execution_count": 13,
   "metadata": {},
   "outputs": [
    {
     "name": "stdout",
     "output_type": "stream",
     "text": [
      "323455693\n"
     ]
    },
    {
     "data": {
      "text/plain": [
       "'323455693'"
      ]
     },
     "execution_count": 13,
     "metadata": {},
     "output_type": "execute_result"
    }
   ],
   "source": [
    "L=input()\n",
    "L"
   ]
  },
  {
   "cell_type": "code",
   "execution_count": 14,
   "metadata": {},
   "outputs": [
    {
     "name": "stdout",
     "output_type": "stream",
     "text": [
      "323455693 is a multiple of 11\n"
     ]
    }
   ],
   "source": [
    "int(L)%11==0\n",
    "print(str(L),'is a multiple of 11')"
   ]
  },
  {
   "cell_type": "code",
   "execution_count": 19,
   "metadata": {},
   "outputs": [
    {
     "name": "stdout",
     "output_type": "stream",
     "text": [
      "200 is not a multiple of 11\n",
      "201 is not a multiple of 11\n",
      "202 is not a multiple of 11\n",
      "203 is not a multiple of 11\n",
      "204 is not a multiple of 11\n",
      "205 is not a multiple of 11\n",
      "206 is not a multiple of 11\n",
      "207 is not a multiple of 11\n",
      "208 is not a multiple of 11\n",
      "209 is a multiple of 11\n",
      "210 is not a multiple of 11\n",
      "211 is not a multiple of 11\n",
      "212 is not a multiple of 11\n",
      "213 is not a multiple of 11\n",
      "214 is not a multiple of 11\n",
      "215 is not a multiple of 11\n",
      "216 is not a multiple of 11\n",
      "217 is not a multiple of 11\n",
      "218 is not a multiple of 11\n",
      "219 is not a multiple of 11\n",
      "220 is a multiple of 11\n",
      "221 is not a multiple of 11\n",
      "222 is not a multiple of 11\n",
      "223 is not a multiple of 11\n",
      "224 is not a multiple of 11\n",
      "225 is not a multiple of 11\n",
      "226 is not a multiple of 11\n",
      "227 is not a multiple of 11\n",
      "228 is not a multiple of 11\n",
      "229 is not a multiple of 11\n",
      "230 is not a multiple of 11\n",
      "231 is a multiple of 11\n",
      "232 is not a multiple of 11\n",
      "233 is not a multiple of 11\n",
      "234 is not a multiple of 11\n",
      "235 is not a multiple of 11\n",
      "236 is not a multiple of 11\n",
      "237 is not a multiple of 11\n",
      "238 is not a multiple of 11\n",
      "239 is not a multiple of 11\n",
      "240 is not a multiple of 11\n",
      "241 is not a multiple of 11\n",
      "242 is a multiple of 11\n",
      "243 is not a multiple of 11\n",
      "244 is not a multiple of 11\n",
      "245 is not a multiple of 11\n",
      "246 is not a multiple of 11\n",
      "247 is not a multiple of 11\n",
      "248 is not a multiple of 11\n",
      "249 is not a multiple of 11\n",
      "250 is not a multiple of 11\n",
      "251 is not a multiple of 11\n",
      "252 is not a multiple of 11\n",
      "253 is a multiple of 11\n",
      "254 is not a multiple of 11\n",
      "255 is not a multiple of 11\n",
      "256 is not a multiple of 11\n",
      "257 is not a multiple of 11\n",
      "258 is not a multiple of 11\n",
      "259 is not a multiple of 11\n",
      "260 is not a multiple of 11\n",
      "261 is not a multiple of 11\n",
      "262 is not a multiple of 11\n",
      "263 is not a multiple of 11\n",
      "264 is a multiple of 11\n",
      "265 is not a multiple of 11\n",
      "266 is not a multiple of 11\n",
      "267 is not a multiple of 11\n",
      "268 is not a multiple of 11\n",
      "269 is not a multiple of 11\n",
      "270 is not a multiple of 11\n",
      "271 is not a multiple of 11\n",
      "272 is not a multiple of 11\n",
      "273 is not a multiple of 11\n",
      "274 is not a multiple of 11\n",
      "275 is a multiple of 11\n",
      "276 is not a multiple of 11\n",
      "277 is not a multiple of 11\n",
      "278 is not a multiple of 11\n",
      "279 is not a multiple of 11\n",
      "280 is not a multiple of 11\n",
      "281 is not a multiple of 11\n",
      "282 is not a multiple of 11\n",
      "283 is not a multiple of 11\n",
      "284 is not a multiple of 11\n",
      "285 is not a multiple of 11\n",
      "286 is a multiple of 11\n",
      "287 is not a multiple of 11\n",
      "288 is not a multiple of 11\n",
      "289 is not a multiple of 11\n",
      "290 is not a multiple of 11\n",
      "291 is not a multiple of 11\n",
      "292 is not a multiple of 11\n",
      "293 is not a multiple of 11\n",
      "294 is not a multiple of 11\n",
      "295 is not a multiple of 11\n",
      "296 is not a multiple of 11\n",
      "297 is a multiple of 11\n",
      "298 is not a multiple of 11\n",
      "299 is not a multiple of 11\n"
     ]
    }
   ],
   "source": [
    "i=int(L)\n",
    "\n",
    "for i in range(200,300): #如何設定所謂\"最大可能1000位數\"?\n",
    "\n",
    "    if (i%11) == 0:\n",
    "        print( str(i), 'is a multiple of 11')\n",
    "        \n",
    "    elif (i%11)!=0:\n",
    "        print(str(i),'is not a multiple of 11')\n",
    "    else:i=0"
   ]
  },
  {
   "cell_type": "code",
   "execution_count": null,
   "metadata": {},
   "outputs": [],
   "source": []
  }
 ],
 "metadata": {
  "kernelspec": {
   "display_name": "Python 3",
   "language": "python",
   "name": "python3"
  },
  "language_info": {
   "codemirror_mode": {
    "name": "ipython",
    "version": 3
   },
   "file_extension": ".py",
   "mimetype": "text/x-python",
   "name": "python",
   "nbconvert_exporter": "python",
   "pygments_lexer": "ipython3",
   "version": "3.7.3"
  }
 },
 "nbformat": 4,
 "nbformat_minor": 2
}
