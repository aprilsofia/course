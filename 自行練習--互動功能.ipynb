{
 "cells": [
  {
   "cell_type": "markdown",
   "metadata": {},
   "source": [
    "# 自行練習 -- 互動功能\n",
    "\n"
   ]
  },
  {
   "cell_type": "code",
   "execution_count": 1,
   "metadata": {},
   "outputs": [],
   "source": [
    "%matplotlib inline\n",
    "\n",
    "import numpy as np\n",
    "import matplotlib.pyplot as plt"
   ]
  },
  {
   "cell_type": "code",
   "execution_count": 2,
   "metadata": {},
   "outputs": [],
   "source": [
    "from ipywidgets import interact\n",
    "from ipywidgets import interact_manual"
   ]
  },
  {
   "cell_type": "code",
   "execution_count": 3,
   "metadata": {},
   "outputs": [],
   "source": [
    "from time import sleep\n",
    "from IPython.display import clear_output"
   ]
  },
  {
   "cell_type": "markdown",
   "metadata": {},
   "source": [
    "### 疑問:如果這些套件很常用，為什麼不直接內嵌呢?\n"
   ]
  },
  {
   "cell_type": "markdown",
   "metadata": {},
   "source": [
    "** 這些套件可以寫在同一個命令列嗎?"
   ]
  },
  {
   "cell_type": "code",
   "execution_count": 36,
   "metadata": {},
   "outputs": [
    {
     "name": "stdout",
     "output_type": "stream",
     "text": [
      "你對台灣旅遊了解多少呢?\n"
     ]
    },
    {
     "data": {
      "application/vnd.jupyter.widget-view+json": {
       "model_id": "bda2f11a8de040a29fb1df64e64a81c7",
       "version_major": 2,
       "version_minor": 0
      },
      "text/plain": [
       "interactive(children=(IntSlider(value=5, description='台灣走透透', max=15, min=-5), Output()), _dom_classes=('widge…"
      ]
     },
     "metadata": {},
     "output_type": "display_data"
    },
    {
     "name": "stdout",
     "output_type": "stream",
     "text": [
      "                                          台灣觀光局大力推薦\n"
     ]
    }
   ],
   "source": [
    "def f(台灣走透透 = 5):\n",
    "    if 台灣走透透 <=0 :\n",
    "        print('別宅在家裡，來個捷運小旅行吧!')\n",
    "    elif 台灣走透透 <=3 :\n",
    "        print('不錯耶，可以試試台鐵小旅行了喔!')\n",
    "    elif 台灣走透透 <=6 :\n",
    "        print('有沒有興趣試試攻百岳呢?')\n",
    "    elif 台灣走透透 <=9 :\n",
    "        print('離島呢?台灣的離島也是很美的呢~')\n",
    "    elif 台灣走透透 >=12:\n",
    "        print('太棒了，你是台灣旅行達人了。向朋友們介紹分享吧!')\n",
    "        \n",
    "print('你對台灣旅遊了解多少呢?')\n",
    "\n",
    "interact(f,心情指數=(1,10))\n",
    "\n",
    "print('                                          台灣觀光局大力推薦')"
   ]
  },
  {
   "cell_type": "markdown",
   "metadata": {},
   "source": [
    "\n",
    "Q:拉桿的長度可以增加嗎?\n",
    "Q:可以加圖嗎?\n"
   ]
  },
  {
   "cell_type": "code",
   "execution_count": null,
   "metadata": {},
   "outputs": [],
   "source": []
  }
 ],
 "metadata": {
  "kernelspec": {
   "display_name": "Python 3",
   "language": "python",
   "name": "python3"
  },
  "language_info": {
   "codemirror_mode": {
    "name": "ipython",
    "version": 3
   },
   "file_extension": ".py",
   "mimetype": "text/x-python",
   "name": "python",
   "nbconvert_exporter": "python",
   "pygments_lexer": "ipython3",
   "version": "3.7.3"
  }
 },
 "nbformat": 4,
 "nbformat_minor": 2
}
