{
 "cells": [
  {
   "cell_type": "markdown",
   "metadata": {},
   "source": [
    "# Q:10018"
   ]
  },
  {
   "cell_type": "code",
   "execution_count": 4,
   "metadata": {},
   "outputs": [
    {
     "name": "stdout",
     "output_type": "stream",
     "text": [
      "請輸入一個正整數:     56\n",
      "56 + 65 = 121\n",
      "總共 1 次\n"
     ]
    }
   ],
   "source": [
    "n=input('請輸入一個正整數:     ')\n",
    "A=n\n",
    "B=A[::-1]\n",
    "t=0\n",
    "while B!=A:\n",
    "    print(A,'+',B,'=',int(A)+int(B))\n",
    "    A=str(int(A)+int(B))\n",
    "    B=A[::-1]\n",
    "    t=t+1\n",
    "    \n",
    "print('總共',t,'次')\n"
   ]
  },
  {
   "cell_type": "code",
   "execution_count": null,
   "metadata": {},
   "outputs": [],
   "source": []
  }
 ],
 "metadata": {
  "kernelspec": {
   "display_name": "Python 3",
   "language": "python",
   "name": "python3"
  },
  "language_info": {
   "codemirror_mode": {
    "name": "ipython",
    "version": 3
   },
   "file_extension": ".py",
   "mimetype": "text/x-python",
   "name": "python",
   "nbconvert_exporter": "python",
   "pygments_lexer": "ipython3",
   "version": "3.7.3"
  }
 },
 "nbformat": 4,
 "nbformat_minor": 2
}
