{
 "cells": [
  {
   "cell_type": "markdown",
   "metadata": {},
   "source": [
    "# 回文"
   ]
  },
  {
   "cell_type": "markdown",
   "metadata": {},
   "source": [
    "阿寬住在盛產茶葉的文山區，對於推廣飲茶文化不遺餘力。他想要將[也可以清心]五個字以環形首尾相接的方式雋刻在茶壺上，請問這五個字有哪些組合方式?"
   ]
  },
  {
   "cell_type": "code",
   "execution_count": 27,
   "metadata": {},
   "outputs": [],
   "source": [
    "from itertools import combinations"
   ]
  },
  {
   "cell_type": "code",
   "execution_count": 28,
   "metadata": {},
   "outputs": [],
   "source": [
    "L = ['也','可','以','清','心']"
   ]
  },
  {
   "cell_type": "code",
   "execution_count": 30,
   "metadata": {},
   "outputs": [],
   "source": [
    "def derangement(x):\n",
    "    p = permutations(x)\n",
    "    return (i for i in p if not any(i[k] == x[k] for k in range(len(x))))"
   ]
  },
  {
   "cell_type": "code",
   "execution_count": 31,
   "metadata": {},
   "outputs": [],
   "source": [
    "D = list(derangement(L))"
   ]
  },
  {
   "cell_type": "code",
   "execution_count": 33,
   "metadata": {},
   "outputs": [
    {
     "data": {
      "text/plain": [
       "[('可', '也', '清', '心', '以'),\n",
       " ('可', '也', '心', '以', '清'),\n",
       " ('可', '以', '也', '心', '清'),\n",
       " ('可', '以', '清', '心', '也'),\n",
       " ('可', '以', '心', '也', '清'),\n",
       " ('可', '清', '也', '心', '以'),\n",
       " ('可', '清', '心', '也', '以'),\n",
       " ('可', '清', '心', '以', '也'),\n",
       " ('可', '心', '也', '以', '清'),\n",
       " ('可', '心', '清', '也', '以'),\n",
       " ('可', '心', '清', '以', '也'),\n",
       " ('以', '也', '可', '心', '清'),\n",
       " ('以', '也', '清', '心', '可'),\n",
       " ('以', '也', '心', '可', '清'),\n",
       " ('以', '清', '也', '心', '可'),\n",
       " ('以', '清', '可', '心', '也'),\n",
       " ('以', '清', '心', '也', '可'),\n",
       " ('以', '清', '心', '可', '也'),\n",
       " ('以', '心', '也', '可', '清'),\n",
       " ('以', '心', '可', '也', '清'),\n",
       " ('以', '心', '清', '也', '可'),\n",
       " ('以', '心', '清', '可', '也'),\n",
       " ('清', '也', '可', '心', '以'),\n",
       " ('清', '也', '心', '可', '以'),\n",
       " ('清', '也', '心', '以', '可'),\n",
       " ('清', '以', '也', '心', '可'),\n",
       " ('清', '以', '可', '心', '也'),\n",
       " ('清', '以', '心', '也', '可'),\n",
       " ('清', '以', '心', '可', '也'),\n",
       " ('清', '心', '也', '可', '以'),\n",
       " ('清', '心', '也', '以', '可'),\n",
       " ('清', '心', '可', '也', '以'),\n",
       " ('清', '心', '可', '以', '也'),\n",
       " ('心', '也', '可', '以', '清'),\n",
       " ('心', '也', '清', '可', '以'),\n",
       " ('心', '也', '清', '以', '可'),\n",
       " ('心', '以', '也', '可', '清'),\n",
       " ('心', '以', '可', '也', '清'),\n",
       " ('心', '以', '清', '也', '可'),\n",
       " ('心', '以', '清', '可', '也'),\n",
       " ('心', '清', '也', '可', '以'),\n",
       " ('心', '清', '也', '以', '可'),\n",
       " ('心', '清', '可', '也', '以'),\n",
       " ('心', '清', '可', '以', '也')]"
      ]
     },
     "execution_count": 33,
     "metadata": {},
     "output_type": "execute_result"
    }
   ],
   "source": [
    "D"
   ]
  },
  {
   "cell_type": "code",
   "execution_count": 7,
   "metadata": {},
   "outputs": [
    {
     "name": "stdout",
     "output_type": "stream",
     "text": [
      "可以清心也\n"
     ]
    }
   ],
   "source": [
    "print (C2)"
   ]
  },
  {
   "cell_type": "code",
   "execution_count": 8,
   "metadata": {},
   "outputs": [],
   "source": [
    "C3= L[2]+L[3]+L[4]+L[0]+L[1]"
   ]
  },
  {
   "cell_type": "code",
   "execution_count": 9,
   "metadata": {},
   "outputs": [
    {
     "name": "stdout",
     "output_type": "stream",
     "text": [
      "以清心也可\n"
     ]
    }
   ],
   "source": [
    "print (C3)"
   ]
  },
  {
   "cell_type": "code",
   "execution_count": 10,
   "metadata": {},
   "outputs": [],
   "source": [
    "C4= L[3]+L[4]+L[0]+L[1]+L[2]"
   ]
  },
  {
   "cell_type": "code",
   "execution_count": 11,
   "metadata": {},
   "outputs": [
    {
     "name": "stdout",
     "output_type": "stream",
     "text": [
      "清心也可以\n"
     ]
    }
   ],
   "source": [
    "print (C4)"
   ]
  },
  {
   "cell_type": "code",
   "execution_count": 12,
   "metadata": {},
   "outputs": [],
   "source": [
    "C5= L[4]+L[0]+L[1]+L[2]+L[3]"
   ]
  },
  {
   "cell_type": "code",
   "execution_count": 13,
   "metadata": {},
   "outputs": [
    {
     "name": "stdout",
     "output_type": "stream",
     "text": [
      "心也可以清\n"
     ]
    }
   ],
   "source": [
    "print(C5)"
   ]
  },
  {
   "cell_type": "code",
   "execution_count": 14,
   "metadata": {},
   "outputs": [],
   "source": [
    "C5= L[4]+L[0]+L[1]+L[2]+L[3]"
   ]
  },
  {
   "cell_type": "code",
   "execution_count": 15,
   "metadata": {},
   "outputs": [
    {
     "name": "stdout",
     "output_type": "stream",
     "text": [
      "清以可也心\n"
     ]
    }
   ],
   "source": [
    "print(C5[::-1])"
   ]
  },
  {
   "cell_type": "code",
   "execution_count": 16,
   "metadata": {},
   "outputs": [
    {
     "name": "stdout",
     "output_type": "stream",
     "text": [
      "以可也心清\n"
     ]
    }
   ],
   "source": [
    "print(C4[::-1])"
   ]
  },
  {
   "cell_type": "code",
   "execution_count": 18,
   "metadata": {},
   "outputs": [
    {
     "name": "stdout",
     "output_type": "stream",
     "text": [
      "可也心清以\n"
     ]
    }
   ],
   "source": [
    "print(C3[::-1])"
   ]
  },
  {
   "cell_type": "code",
   "execution_count": null,
   "metadata": {},
   "outputs": [],
   "source": []
  }
 ],
 "metadata": {
  "kernelspec": {
   "display_name": "Python 3",
   "language": "python",
   "name": "python3"
  },
  "language_info": {
   "codemirror_mode": {
    "name": "ipython",
    "version": 3
   },
   "file_extension": ".py",
   "mimetype": "text/x-python",
   "name": "python",
   "nbconvert_exporter": "python",
   "pygments_lexer": "ipython3",
   "version": "3.7.3"
  }
 },
 "nbformat": 4,
 "nbformat_minor": 2
}
