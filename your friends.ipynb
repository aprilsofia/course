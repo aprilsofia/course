{
 "cells": [
  {
   "cell_type": "markdown",
   "metadata": {},
   "source": [
    "###  Your Friends  "
   ]
  },
  {
   "cell_type": "markdown",
   "metadata": {},
   "source": [
    "####  Point:給一個程式，充分說明。提供版型，改寫~"
   ]
  },
  {
   "cell_type": "markdown",
   "metadata": {},
   "source": [
    "####  輸入你身邊的人數，其次從下列詞語中選擇你與身邊夥伴相關的詞彙{水火不容、如膠似漆、形同陌路、融洽和睦、豬朋狗友、忽冷忽熱}"
   ]
  },
  {
   "cell_type": "markdown",
   "metadata": {},
   "source": [
    "####  輸出相關建議"
   ]
  },
  {
   "cell_type": "code",
   "execution_count": 8,
   "metadata": {},
   "outputs": [
    {
     "name": "stdout",
     "output_type": "stream",
     "text": [
      ">>>3\n",
      ">>>:忽冷忽熱\n",
      ">>>:形同陌路\n",
      ">>>:水火不容\n",
      "這表示你們還在磨合期吧，試著充分溝通，對彼此的關係會有一定的幫助的~\n",
      "形容陌路?這個意思是你們各自滑手機，沒有交流嗎?放下手機，一起出去走走吧!\n",
      "其實你們是很互補的一對，要好好欣賞彼此的差異~\n"
     ]
    }
   ],
   "source": [
    "n = int(input('>>>'))\n",
    "data = {}\n",
    "for i in range(n):\n",
    "    n <= 6\n",
    "    data[i] = input('>>>:').split()\n",
    "\n",
    "for i in range(n):\n",
    "    d = data[i]\n",
    "    a = ''.join([str(x) for x in d])\n",
    "\n",
    "    if a == '水火不容':\n",
    "        print('其實你們是很互補的，要好好欣賞彼此的差異喔~',end='')\n",
    "    elif a == '豬朋狗友':\n",
    "        print('哈哈，你的夥伴不是在你身邊嗎?這樣形容，表示你們感情應該很好吧!',end='')\n",
    "    elif a == '融洽和睦':\n",
    "        print('這年頭能夠和睦相處，表示你們彼此都很尊重對方，讚讚!',end='')\n",
    "    elif a == '形同陌路':\n",
    "        print('形容陌路?這個意思是你們各自滑手機，沒有交流嗎?放下手機，一起出去走走吧!',end='')\n",
    "    elif a == '如膠似漆':\n",
    "        print('嗯......，你們忙，不打擾了',end='')\n",
    "    elif a == '忽冷忽熱':\n",
    "        print('這表示你們還在磨合期吧，試著充分溝通，對彼此的關係會有一定的幫助的~',end='')\n",
    "    else:\n",
    "        print('try again?')\n",
    "    print()"
   ]
  },
  {
   "cell_type": "code",
   "execution_count": null,
   "metadata": {},
   "outputs": [],
   "source": []
  }
 ],
 "metadata": {
  "kernelspec": {
   "display_name": "Python 3",
   "language": "python",
   "name": "python3"
  },
  "language_info": {
   "codemirror_mode": {
    "name": "ipython",
    "version": 3
   },
   "file_extension": ".py",
   "mimetype": "text/x-python",
   "name": "python",
   "nbconvert_exporter": "python",
   "pygments_lexer": "ipython3",
   "version": "3.7.3"
  }
 },
 "nbformat": 4,
 "nbformat_minor": 2
}
