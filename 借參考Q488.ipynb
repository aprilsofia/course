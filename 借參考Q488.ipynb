{
 "cells": [
  {
   "cell_type": "markdown",
   "metadata": {},
   "source": [
    "# Q488: Triangle Wave\n"
   ]
  },
  {
   "cell_type": "code",
   "execution_count": 9,
   "metadata": {},
   "outputs": [
    {
     "name": "stdout",
     "output_type": "stream",
     "text": [
      "請輸入數值A(A <9):      8\n",
      "請輸入重複頻率F:      3\n",
      "1\n",
      "22\n",
      "333\n",
      "4444\n",
      "55555\n",
      "666666\n",
      "7777777\n",
      "88888888\n",
      "1111111\n",
      "222222\n",
      "33333\n",
      "4444\n",
      "555\n",
      "66\n",
      "7\n",
      "\n",
      "1\n",
      "22\n",
      "333\n",
      "4444\n",
      "55555\n",
      "666666\n",
      "7777777\n",
      "88888888\n",
      "1111111\n",
      "222222\n",
      "33333\n",
      "4444\n",
      "555\n",
      "66\n",
      "7\n",
      "\n",
      "1\n",
      "22\n",
      "333\n",
      "4444\n",
      "55555\n",
      "666666\n",
      "7777777\n",
      "88888888\n",
      "1111111\n",
      "222222\n",
      "33333\n",
      "4444\n",
      "555\n",
      "66\n",
      "7\n",
      "\n"
     ]
    }
   ],
   "source": [
    "A=input('請輸入數值A(A <9):      ')\n",
    "F=input('請輸入重複頻率F:      ')\n",
    "s=['1','2','3','4','5','6','7','8','9']\n",
    "k=int(A)\n",
    "f=int(F)\n",
    "for a in range(1,10):\n",
    "    if a<(f+1):\n",
    "        for i in range(1,10):\n",
    "            if i <=k:\n",
    "                print(s[i-1]*i)\n",
    "        for i in range(1,10):\n",
    "            if i <=k:\n",
    "                print(s[i-1]*(k-i))\n",
    "            a+=1"
   ]
  },
  {
   "cell_type": "code",
   "execution_count": null,
   "metadata": {},
   "outputs": [],
   "source": []
  }
 ],
 "metadata": {
  "kernelspec": {
   "display_name": "Python 3",
   "language": "python",
   "name": "python3"
  },
  "language_info": {
   "codemirror_mode": {
    "name": "ipython",
    "version": 3
   },
   "file_extension": ".py",
   "mimetype": "text/x-python",
   "name": "python",
   "nbconvert_exporter": "python",
   "pygments_lexer": "ipython3",
   "version": "3.7.3"
  }
 },
 "nbformat": 4,
 "nbformat_minor": 2
}
