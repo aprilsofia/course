{
 "cells": [
  {
   "cell_type": "markdown",
   "metadata": {},
   "source": [
    "## 自行練習--體重分布\n"
   ]
  },
  {
   "cell_type": "markdown",
   "metadata": {},
   "source": [
    "### 甲班共有20位學生，輸入學生體重資料，並呈現其分布圖"
   ]
  },
  {
   "cell_type": "code",
   "execution_count": 6,
   "metadata": {},
   "outputs": [],
   "source": [
    "%matplotlib inline\n",
    "\n",
    "import numpy as np\n",
    "import matplotlib.pyplot as plt"
   ]
  },
  {
   "cell_type": "code",
   "execution_count": 9,
   "metadata": {},
   "outputs": [
    {
     "name": "stdout",
     "output_type": "stream",
     "text": [
      "請輸入體重:   58\n",
      "請輸入體重:   38\n",
      "請輸入體重:   45\n",
      "請輸入體重:   23\n",
      "請輸入體重:   45\n",
      "請輸入體重:   22\n",
      "請輸入體重:   34\n",
      "請輸入體重:   23\n",
      "請輸入體重:   56\n",
      "請輸入體重:   44\n",
      "請輸入體重:   32\n",
      "請輸入體重:   55\n",
      "請輸入體重:   35\n",
      "請輸入體重:   23\n",
      "請輸入體重:   54\n",
      "請輸入體重:   22\n",
      "請輸入體重:   42\n",
      "請輸入體重:   56\n",
      "請輸入體重:   24\n",
      "請輸入體重:   24\n"
     ]
    },
    {
     "data": {
      "text/plain": [
       "['58',\n",
       " '38',\n",
       " '45',\n",
       " '23',\n",
       " '45',\n",
       " '22',\n",
       " '34',\n",
       " '23',\n",
       " '56',\n",
       " '44',\n",
       " '32',\n",
       " '55',\n",
       " '35',\n",
       " '23',\n",
       " '54',\n",
       " '22',\n",
       " '42',\n",
       " '56',\n",
       " '24',\n",
       " '24']"
      ]
     },
     "execution_count": 9,
     "metadata": {},
     "output_type": "execute_result"
    }
   ],
   "source": [
    "weights=[]\n",
    "for i in range(20):\n",
    "    weights.append(input('請輸入體重:   '))\n",
    "weights"
   ]
  },
  {
   "cell_type": "code",
   "execution_count": 12,
   "metadata": {},
   "outputs": [
    {
     "ename": "NameError",
     "evalue": "name 'weight' is not defined",
     "output_type": "error",
     "traceback": [
      "\u001b[1;31m---------------------------------------------------------------------------\u001b[0m",
      "\u001b[1;31mNameError\u001b[0m                                 Traceback (most recent call last)",
      "\u001b[1;32m<ipython-input-12-973cb8b1f626>\u001b[0m in \u001b[0;36m<module>\u001b[1;34m\u001b[0m\n\u001b[0;32m      1\u001b[0m \u001b[0mclassA_weights_int\u001b[0m \u001b[1;33m=\u001b[0m \u001b[1;33m[\u001b[0m\u001b[1;33m]\u001b[0m\u001b[1;33m\u001b[0m\u001b[1;33m\u001b[0m\u001b[0m\n\u001b[0;32m      2\u001b[0m \u001b[1;32mfor\u001b[0m \u001b[0mi\u001b[0m \u001b[1;32min\u001b[0m \u001b[0mweights\u001b[0m\u001b[1;33m:\u001b[0m\u001b[1;33m\u001b[0m\u001b[1;33m\u001b[0m\u001b[0m\n\u001b[1;32m----> 3\u001b[1;33m     \u001b[0mclassA_weights_int\u001b[0m\u001b[1;33m.\u001b[0m\u001b[0mappend\u001b[0m\u001b[1;33m(\u001b[0m\u001b[0mint\u001b[0m\u001b[1;33m(\u001b[0m\u001b[0mweight\u001b[0m\u001b[1;33m)\u001b[0m\u001b[1;33m)\u001b[0m\u001b[1;33m\u001b[0m\u001b[1;33m\u001b[0m\u001b[0m\n\u001b[0m",
      "\u001b[1;31mNameError\u001b[0m: name 'weight' is not defined"
     ]
    }
   ],
   "source": [
    "classA_weights_int = []\n",
    "for i in weights:\n",
    "    classA_weights_int.append(int(weight))"
   ]
  },
  {
   "cell_type": "code",
   "execution_count": null,
   "metadata": {},
   "outputs": [],
   "source": []
  }
 ],
 "metadata": {
  "kernelspec": {
   "display_name": "Python 3",
   "language": "python",
   "name": "python3"
  },
  "language_info": {
   "codemirror_mode": {
    "name": "ipython",
    "version": 3
   },
   "file_extension": ".py",
   "mimetype": "text/x-python",
   "name": "python",
   "nbconvert_exporter": "python",
   "pygments_lexer": "ipython3",
   "version": "3.7.3"
  }
 },
 "nbformat": 4,
 "nbformat_minor": 2
}
