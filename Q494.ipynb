{
 "cells": [
  {
   "cell_type": "markdown",
   "metadata": {},
   "source": [
    "### Q494: Kindergarten Counting Game\n",
    "算一算每行有幾個字（word）。\n",
    "Word的定義是連續的字元（letter: A~Z a~z）所組成的字。"
   ]
  },
  {
   "cell_type": "code",
   "execution_count": 12,
   "metadata": {},
   "outputs": [
    {
     "name": "stdout",
     "output_type": "stream",
     "text": [
      "Shsssssssssh ... I am hunting wabbits. Heh Heh Heh Heh ...\n",
      "Shsssssssssh ... I am hunting wabbits. Heh Heh Heh Heh ... 11\n"
     ]
    }
   ],
   "source": [
    "words=input()\n",
    "a=len(words.split())\n",
    "print(str(words),a)"
   ]
  },
  {
   "cell_type": "code",
   "execution_count": 5,
   "metadata": {},
   "outputs": [
    {
     "name": "stdout",
     "output_type": "stream",
     "text": [
      "The following commands were written to file `'Q494.py'.py`:\n",
      "words=input()\n",
      "a=len(words.split())\n",
      "print(str(words),a)\n"
     ]
    }
   ],
   "source": [
    "%save 'Q494.py' 4"
   ]
  },
  {
   "cell_type": "code",
   "execution_count": 7,
   "metadata": {},
   "outputs": [
    {
     "name": "stdout",
     "output_type": "stream",
     "text": [
      "Writing (Q494t01.txt)\n"
     ]
    }
   ],
   "source": [
    "%%writefile (Q494t01.txt)\n",
    "Meep Meep!\n",
    "Meep Meep! 2"
   ]
  },
  {
   "cell_type": "code",
   "execution_count": 9,
   "metadata": {},
   "outputs": [
    {
     "name": "stdout",
     "output_type": "stream",
     "text": [
      "Writing (Q494t02.txt)\n"
     ]
    }
   ],
   "source": [
    "%%writefile (Q494t02.txt)\n",
    "I tot I taw a putty tat.\n",
    "I tot I taw a putty tat. 7"
   ]
  },
  {
   "cell_type": "code",
   "execution_count": 11,
   "metadata": {},
   "outputs": [
    {
     "name": "stdout",
     "output_type": "stream",
     "text": [
      "Writing (Q494t03.txt)\n"
     ]
    }
   ],
   "source": [
    "%%writefile (Q494t03.txt)\n",
    "I did! I did! I did taw a putty tat.\n",
    "I did! I did! I did taw a putty tat. 10"
   ]
  },
  {
   "cell_type": "code",
   "execution_count": 13,
   "metadata": {},
   "outputs": [
    {
     "name": "stdout",
     "output_type": "stream",
     "text": [
      "Writing (Q494t04.txt)\n"
     ]
    }
   ],
   "source": [
    "%%writefile (Q494t04.txt)\n",
    "Shsssssssssh ... I am hunting wabbits. Heh Heh Heh Heh ...\n",
    "Shsssssssssh ... I am hunting wabbits. Heh Heh Heh Heh ... 11"
   ]
  },
  {
   "cell_type": "code",
   "execution_count": 14,
   "metadata": {},
   "outputs": [],
   "source": [
    "## 第四題答案，應該是[9]，可見需刪除[...]，在指令上可以同時以(split空白，以及split...)處理嗎?應該怎麼處理呢??"
   ]
  },
  {
   "cell_type": "code",
   "execution_count": null,
   "metadata": {},
   "outputs": [],
   "source": []
  }
 ],
 "metadata": {
  "kernelspec": {
   "display_name": "Python 3",
   "language": "python",
   "name": "python3"
  },
  "language_info": {
   "codemirror_mode": {
    "name": "ipython",
    "version": 3
   },
   "file_extension": ".py",
   "mimetype": "text/x-python",
   "name": "python",
   "nbconvert_exporter": "python",
   "pygments_lexer": "ipython3",
   "version": "3.7.3"
  }
 },
 "nbformat": 4,
 "nbformat_minor": 2
}
