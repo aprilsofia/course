{
 "cells": [
  {
   "cell_type": "markdown",
   "metadata": {},
   "source": [
    "# Q10783: Odd Sum"
   ]
  },
  {
   "cell_type": "markdown",
   "metadata": {},
   "source": [
    "給你一個範圍 a 到 b ，請你找出 a 與 b 之間所有奇數的和。\n",
    "\n",
    "例如：範圍 [3, 9] 中所有奇數的和就是 3 + 5 + 7 + 9 = 24 。"
   ]
  },
  {
   "cell_type": "markdown",
   "metadata": {},
   "source": [
    "以下是錯誤的做法......\n"
   ]
  },
  {
   "cell_type": "code",
   "execution_count": 85,
   "metadata": {},
   "outputs": [
    {
     "name": "stdout",
     "output_type": "stream",
     "text": [
      "請輸入數值a,(0 <= a <= 100):    43\n",
      "請輸入數值b,(  b<a ):     33\n",
      "380\n"
     ]
    }
   ],
   "source": [
    "A=input('請輸入數值a,(0 <= a <= 100):    ' )\n",
    "B=input('請輸入數值b,(  b<a ):     ' )\n",
    "a=int(A)\n",
    "b=int(B)\n",
    "sum1 = 0\n",
    "h=(a-b)\n",
    "sum=int((a+b)*h/2)\n",
    "print(sum)"
   ]
  },
  {
   "cell_type": "code",
   "execution_count": 1,
   "metadata": {},
   "outputs": [],
   "source": [
    "import numpy as np"
   ]
  },
  {
   "cell_type": "code",
   "execution_count": 62,
   "metadata": {},
   "outputs": [
    {
     "name": "stdout",
     "output_type": "stream",
     "text": [
      "請輸入數值a,(0 <= a <= 100):    44\n",
      "請輸入數值b,(  b<a ):     33\n",
      "154\n",
      "198\n"
     ]
    }
   ],
   "source": [
    "A=input('請輸入數值a,(0 <= a <= 100):    ' )\n",
    "B=input('請輸入數值b,(  b<a ):     ' )\n",
    "a=int(A)\n",
    "b=int(B)\n",
    "sum1 = 0\n",
    "\n",
    "for i in (b,a):\n",
    "\n",
    "    if i%2==b:\n",
    "        f=b+1\n",
    "    if i%2==a:\n",
    "        g=a-1\n",
    "    sum=sum+i\n",
    "    print(sum)\n",
    "              \n",
    "       \n"
   ]
  },
  {
   "cell_type": "code",
   "execution_count": null,
   "metadata": {},
   "outputs": [],
   "source": [
    "A=input('請輸入數值a,(0 <= a <= 100):      ')\n",
    "B=input('請輸入數值b,(  b<a ):      ')\n",
    "m = int(input('請輸入數值:'  ))\n",
    "a=int(A)\n",
    "b=int(B)\n",
    "\n",
    "while a>b:\n",
    "     print (a+b)*1\n",
    "        "
   ]
  },
  {
   "cell_type": "code",
   "execution_count": null,
   "metadata": {},
   "outputs": [],
   "source": [
    "m = int(input()) #接受输入的数字并将其转换为int型\n",
    "n = m%2 #判断其是奇数还是偶数\n",
    "sum = 0 #预设sum为0\n",
    "for i in alist: #遍历alist\n",
    "    if i%2 == n: #选择与输入数奇偶性相同的数\n",
    "        sum += i #累加到sum里\n",
    "alist.append(sum) #将sum添加到alist的末尾\n",
    "print(alist) #打印alist\n",
    "--------------------- \n",
    "作者：risuinazoo \n",
    "来源：CSDN \n",
    "原文：https://blog.csdn.net/weZ*aVVixin_41980474/article/details/80273865 \n",
    "版权声明：本文为博主原创文章，转载请附上博文链接！"
   ]
  },
  {
   "cell_type": "code",
   "execution_count": null,
   "metadata": {},
   "outputs": [],
   "source": [
    "a=int(A)\n",
    "b=int(B)\n",
    "  for n in range(a,b):\n",
    "    \n",
    "        print (n)"
   ]
  },
  {
   "cell_type": "code",
   "execution_count": null,
   "metadata": {},
   "outputs": [],
   "source": [
    "int main()      \n",
    "  int n,a,b,sum;\n",
    "  cin >> n;\n",
    "  for(int i=0;i<n;i++){\n",
    "    cin >> a >>b;\n",
    "    sum=0;\n",
    "    for(int j=a;j<=b;j++){\n",
    "      if ((j%2)==1){\n",
    "        sum=sum+j;      "
   ]
  },
  {
   "cell_type": "code",
   "execution_count": null,
   "metadata": {},
   "outputs": [],
   "source": [
    "int main()      \n",
    "  int n,a,b,sum;\n",
    "  cin >> n;\n",
    "  for(int i=0;i<n;i++){\n",
    "    cin >> a >>b;\n",
    "    sum=0;\n",
    "    for(int j=a;j<=b;j++){\n",
    "      if ((j%2)==1){\n",
    "        sum=sum+j;      \n",
    "      }                  \n",
    "    }\n",
    "    cout << \"Case \" << i+1 <<\": \"<<sum<<endl;\n",
    "  }\n",
    "  //system(\"pause\");\n",
    "}\n"
   ]
  },
  {
   "cell_type": "code",
   "execution_count": null,
   "metadata": {},
   "outputs": [],
   "source": [
    " if C=(a-b) :\n",
    "            for a in range(1,100):\n",
    "                if 0 <= a <= 100):\n",
    "                    print(a)\n",
    "            for b in range(1,100):\n",
    "                if a<b:\n",
    "                    print(B)\n",
    "            for \n",
    "        if a>b:\n",
    "            print(a-b)\n",
    "            \n",
    "            for a in range(1,100):\n",
    "                if 0 <= a <= 100:\n",
    "                    print(a)\n",
    "            for b in range(1,100):\n",
    "                if a<b:\n",
    "                    print(B)\n",
    "            for \n",
    "                if a>b:\n",
    "                    print(sum(a+b)/2)  \n",
    "                    print (a,b)\n",
    "    \n",
    "    if a>b:"
   ]
  },
  {
   "cell_type": "code",
   "execution_count": null,
   "metadata": {},
   "outputs": [],
   "source": [
    "i=0\n",
    "sum1=0\n",
    "sum2=0\n",
    "while i<=100:\n",
    "    if i%2==0:\n",
    "        sum1+=i\n",
    "    else:\n",
    "        sum2+=i\n",
    "    i+=1\n",
    "print('1-100之間偶數和為：%d' % sum1)\n",
    "print('1-100之間奇數和為：%d' % sum2)\n"
   ]
  },
  {
   "cell_type": "code",
   "execution_count": null,
   "metadata": {},
   "outputs": [],
   "source": [
    "sum = 0\n",
    "for i in range(0,100):\n",
    "    if i%2==1:\n",
    "        sum += 1\n",
    "print(sum)"
   ]
  },
  {
   "cell_type": "code",
   "execution_count": null,
   "metadata": {},
   "outputs": [],
   "source": [
    "sum = 0\n",
    "n = 99while n > 0:\n",
    "    sum = sum + n\n",
    "    n = n - 2\n",
    "print(sum)"
   ]
  },
  {
   "cell_type": "code",
   "execution_count": null,
   "metadata": {},
   "outputs": [],
   "source": [
    "m = int(input())*2\n",
    "n = m%2 \n",
    "sum = 0 \n",
    "for i in alist: \n",
    "    if i%2 == n: \n",
    "        sum += i \n",
    "alist.append(sum) \n",
    "       print(alist)"
   ]
  },
  {
   "cell_type": "code",
   "execution_count": null,
   "metadata": {},
   "outputs": [],
   "source": [
    "sum = 0\n",
    "n = 99\n",
    "while n > 0:\n",
    "    sum = sum + n\n",
    "    n = n - 2\n",
    "print(sum)"
   ]
  },
  {
   "cell_type": "code",
   "execution_count": null,
   "metadata": {},
   "outputs": [],
   "source": []
  }
 ],
 "metadata": {
  "kernelspec": {
   "display_name": "Python 3",
   "language": "python",
   "name": "python3"
  },
  "language_info": {
   "codemirror_mode": {
    "name": "ipython",
    "version": 3
   },
   "file_extension": ".py",
   "mimetype": "text/x-python",
   "name": "python",
   "nbconvert_exporter": "python",
   "pygments_lexer": "ipython3",
   "version": "3.7.3"
  }
 },
 "nbformat": 4,
 "nbformat_minor": 2
}
