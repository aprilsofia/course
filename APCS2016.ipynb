{
 "cells": [
  {
   "cell_type": "markdown",
   "metadata": {},
   "source": [
    "## APCS 2016 年 10 月"
   ]
  },
  {
   "cell_type": "markdown",
   "metadata": {},
   "source": [
    "## 第 4 題 棒球遊戲"
   ]
  },
  {
   "cell_type": "markdown",
   "metadata": {},
   "source": [
    "### 問題描述"
   ]
  },
  {
   "cell_type": "markdown",
   "metadata": {},
   "source": [
    "\n",
    "\n",
    "謙謙最近迷上棒球，他想自己寫一個簡化的棒球遊戲計分程式。這個程式會讀入球隊\n",
    "\n",
    "中每位球員的打擊結果，然後計算出球隊的得分。\n",
    "\n",
    "這是個簡化版的模擬，假設擊球員的打擊結果只有以下情況：\n",
    "\n",
    "(1) 安打：以 1B, 2B, 3B 和 HR 分別代表一壘打、二壘打、三壘打和全（四）壘打。\n",
    "\n",
    "(2) 出局：以 FO, GO, 和 SO 表示。\n",
    "\n",
    "這個簡化版的規則如下：\n",
    "\n",
    "(1) 球場上有四個壘包，稱為本壘、一壘、二壘和三壘。\n",
    "(2) 站在本壘握著球棒打球的稱為「擊球員」，站在另外三個壘包的稱為「跑壘員」。\n",
    "(3) 當擊球員的打擊結果為「安打」時，場上球員（擊球員與跑壘員）可以移動；結果為「出局」時，跑壘員不動，擊球員離場，換下一位擊球員。\n",
    "(4) 球隊總共有九位球員，依序排列。比賽開始由第 1 位開始打擊，當第 i 位球員打擊完畢後，由第 (i+1) 位球員擔任擊球員。當第九位球員完畢後，則輪回第一位球員。\n",
    "(5) 當打出 K 壘打時，場上球員（擊球員和跑壘員）會前進 K 個壘包。從本壘前進一個壘包會移動到一壘，接著是二壘、三壘，最後回到本壘。\n",
    "(6) 每位球員回到本壘時可得 1 分。\n",
    "(7) 每達到三個出局數時，一、二和三壘就會清空（跑壘員都得離開），重新開始。"
   ]
  },
  {
   "cell_type": "markdown",
   "metadata": {},
   "source": [
    "![跑壘示意圖](跑壘示意圖.png) "
   ]
  },
  {
   "cell_type": "markdown",
   "metadata": {},
   "source": [
    "請寫出具備這樣功能的程式，計算球隊的總得分。"
   ]
  },
  {
   "cell_type": "markdown",
   "metadata": {},
   "source": [
    "### 輸入格式"
   ]
  },
  {
   "cell_type": "markdown",
   "metadata": {},
   "source": [
    "1. 每組測試資料固定有十行。\n",
    "2. 第一到九行，依照球員順序，每一行代表一位球員的打擊資訊。每一行開始有一個正整數 a ( 1 d a d 5 )，代表球員總共打了 a 次。接下來有 a 個字串（均為兩個字元），依序代表每次打擊的結果。資料之間均以一個空白字元隔開。球員的打擊資訊不會有錯誤也不會缺漏。\n",
    "3. 第十行有一個正整數 _b_ (1 d _b_ d 27)，表示我們想要計算當總出局數累計到 _b_ 時，該球隊的得分。輸入的打擊資訊中至少包含 _b_ 個出局。"
   ]
  },
  {
   "cell_type": "markdown",
   "metadata": {},
   "source": [
    "### 輸出格式\n",
    "計算在總計第 _b_ 個出局數發生時的總得分，並將此得分輸出於一行。"
   ]
  },
  {
   "cell_type": "markdown",
   "metadata": {},
   "source": [
    "![輸出格式](輸出格式.png)"
   ]
  },
  {
   "cell_type": "markdown",
   "metadata": {},
   "source": [
    "### 評分說明"
   ]
  },
  {
   "cell_type": "markdown",
   "metadata": {},
   "source": [
    "輸入包含若干筆測試資料，每一筆測試資料的執行時間限制(time limit)均為 1 秒，依正確通過測資筆數給分。其中：\n",
    "\n",
    "第 1 子題組 20 分，打擊表現只有 HR 和 SO 兩種。\n",
    "\n",
    "第 2 子題組 20 分，安打表現只有 1B，而且 b 固定為 3 。\n",
    "\n",
    "第 3 子題組 20 分， b 固定為 3 。\n",
    "\n",
    "第 4 子題組 40 分，無特別限制。\n"
   ]
  }
 ],
 "metadata": {
  "kernelspec": {
   "display_name": "Python 3",
   "language": "python",
   "name": "python3"
  },
  "language_info": {
   "codemirror_mode": {
    "name": "ipython",
    "version": 3
   },
   "file_extension": ".py",
   "mimetype": "text/x-python",
   "name": "python",
   "nbconvert_exporter": "python",
   "pygments_lexer": "ipython3",
   "version": "3.7.3"
  }
 },
 "nbformat": 4,
 "nbformat_minor": 2
}
